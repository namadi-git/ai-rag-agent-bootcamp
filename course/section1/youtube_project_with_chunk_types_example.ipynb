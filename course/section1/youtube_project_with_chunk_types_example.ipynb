{
 "cells": [
  {
   "cell_type": "markdown",
   "id": "e585e732",
   "metadata": {},
   "source": [
    "This notebook  take a youtube video.\n",
    "In section 1 it summarizes the videos and returns the chapter timestamps in a structured output\n",
    "\n",
    "In section 2 the transcript is chunked (and explored chunking methods using langchain)\n",
    "\n",
    "In section 3 perform rag on the chunks, index each chunk"
   ]
  },
  {
   "cell_type": "code",
   "execution_count": 1,
   "id": "9c4ddae3",
   "metadata": {},
   "outputs": [],
   "source": [
    "from openai import OpenAI\n",
    "from pydantic import BaseModel\n",
    "import json\n",
    "import numpy as np\n",
    "from tqdm.auto import tqdm\n",
    "from dotenv import load_dotenv\n",
    "load_dotenv()\n",
    "\n",
    "openai_client = OpenAI()"
   ]
  },
  {
   "cell_type": "code",
   "execution_count": 2,
   "id": "1ad9c7a4",
   "metadata": {},
   "outputs": [],
   "source": [
    "from youtube_transcript_api import YouTubeTranscriptApi\n",
    "\n",
    "video_id = 'ph1PxZIkz1o'\n",
    "\n",
    "ytt_api = YouTubeTranscriptApi()\n",
    "transcript = ytt_api.fetch(video_id)"
   ]
  },
  {
   "cell_type": "code",
   "execution_count": 3,
   "id": "8136ecc6",
   "metadata": {},
   "outputs": [
    {
     "data": {
      "text/plain": [
       "youtube_transcript_api._transcripts.FetchedTranscript"
      ]
     },
     "execution_count": 3,
     "metadata": {},
     "output_type": "execute_result"
    }
   ],
   "source": [
    "type(transcript)"
   ]
  },
  {
   "cell_type": "code",
   "execution_count": 4,
   "id": "bd1adb43",
   "metadata": {},
   "outputs": [
    {
     "data": {
      "text/plain": [
       "1407"
      ]
     },
     "execution_count": 4,
     "metadata": {},
     "output_type": "execute_result"
    }
   ],
   "source": [
    "len(transcript)"
   ]
  },
  {
   "cell_type": "code",
   "execution_count": 5,
   "id": "5142276d",
   "metadata": {},
   "outputs": [
    {
     "name": "stdout",
     "output_type": "stream",
     "text": [
      "FetchedTranscriptSnippet(text='So hi everyone. Uh today we are going to', start=0.0, duration=5.04)\n",
      "FetchedTranscriptSnippet(text='talk about our upcoming course. The', start=2.96, duration=3.52)\n",
      "FetchedTranscriptSnippet(text='upcoming course is called machine', start=5.04, duration=5.92)\n",
      "FetchedTranscriptSnippet(text='learning zoom camp. And um this is', start=6.48, duration=5.92)\n",
      "FetchedTranscriptSnippet(text='already I put the link in the', start=10.96, duration=3.599)\n"
     ]
    }
   ],
   "source": [
    "for i in range(5):\n",
    "    print(transcript[i])"
   ]
  },
  {
   "cell_type": "code",
   "execution_count": 6,
   "id": "a6925938",
   "metadata": {},
   "outputs": [],
   "source": [
    "# format the transcript into a single string\n",
    "def format_timestamp(seconds: float) -> str:\n",
    "    \"\"\"Convert seconds to H:MM:SS if > 1 hour, else M:SS\"\"\"\n",
    "    total_seconds = int(seconds)\n",
    "    hours, remainder = divmod(total_seconds, 3600)\n",
    "    minutes, secs = divmod(remainder, 60)\n",
    "\n",
    "    if hours > 0:\n",
    "        return f\"{hours}:{minutes:02}:{secs:02}\"\n",
    "    else:\n",
    "        return f\"{minutes}:{secs:02}\"\n",
    "\n",
    "def make_subtitles(transcript) -> str:\n",
    "    lines = []\n",
    "\n",
    "    for entry in transcript:\n",
    "        ts = format_timestamp(entry.start)\n",
    "        text = entry.text.replace('\\n', ' ')\n",
    "        lines.append(ts + ' ' + text)\n",
    "\n",
    "    return '\\n'.join(lines)\n"
   ]
  },
  {
   "cell_type": "code",
   "execution_count": 7,
   "id": "110cbdd4",
   "metadata": {},
   "outputs": [],
   "source": [
    "\n",
    "subtitles = make_subtitles(transcript)"
   ]
  },
  {
   "cell_type": "code",
   "execution_count": 8,
   "id": "03fe12d9",
   "metadata": {},
   "outputs": [
    {
     "name": "stdout",
     "output_type": "stream",
     "text": [
      "0:00 So hi everyone. Uh today we are going to\n",
      "0:02 talk about our upcoming course. The\n",
      "0:05 upcoming course is called machine\n",
      "0:06 learning zoom camp. And um this is\n",
      "0:10 already I put the link in the\n",
      "0:12 description. So if you're watching um\n",
      "0:14 this video in recording or you're\n",
      "0:17 watching it live, you go here in the\n",
      "0:19 description after under this video and\n",
      "0:21 then you see a link course. uh click on\n",
      "0:25 that link and this bring you will bring\n",
      "0:27 you to\n",
      "0:29 this website this GitHub\n"
     ]
    }
   ],
   "source": [
    "print(subtitles[:500])"
   ]
  },
  {
   "cell_type": "markdown",
   "id": "a207f95f",
   "metadata": {},
   "source": [
    "# Section 1: Summarization + Structured Output"
   ]
  },
  {
   "cell_type": "code",
   "execution_count": 9,
   "id": "85dc9f61",
   "metadata": {},
   "outputs": [],
   "source": [
    "class Chapter(BaseModel):\n",
    "    timestamp: str\n",
    "    title: str\n",
    "\n",
    "class YTSummaryResponse(BaseModel):\n",
    "    summary: str\n",
    "    chapters: list[Chapter]"
   ]
  },
  {
   "cell_type": "code",
   "execution_count": 10,
   "id": "1674ebd2",
   "metadata": {},
   "outputs": [],
   "source": [
    "instructions = \"\"\"\n",
    "Summarize the transcript and describe the main purpose of the video\n",
    "and the main ideas. \n",
    "\n",
    "Also output chapters with time. Use usual sentence case, not Title Case for the chapter.\n",
    "\n",
    "More chapters is better than fewer chapters. Have a chapter at least every 3-5 minutes\n",
    "\"\"\".strip()\n",
    "\n",
    "messages = [\n",
    "    {\"role\": \"system\", \"content\": instructions}, \n",
    "    {\"role\": \"user\", \"content\": subtitles}\n",
    "]\n",
    "\n",
    "response = openai_client.responses.parse(\n",
    "    model='gpt-4o-mini',\n",
    "    input=messages,\n",
    "    text_format=YTSummaryResponse\n",
    ")"
   ]
  },
  {
   "cell_type": "code",
   "execution_count": 11,
   "id": "9f49bd68",
   "metadata": {},
   "outputs": [
    {
     "data": {
      "text/plain": [
       "YTSummaryResponse(summary=\"The video provides an overview of the upcoming 'Machine Learning Zoom Camp' course, detailing course structure, prerequisites, and participant engagement. It emphasizes the engineering focus of the course and clarifies that it’s free, with no job placement support. The host encourages interaction through a live Q&A format, addressing various participant questions regarding the course, tools, and outcomes. There’s a discussion on what students can expect in terms of content updates, prerequisites, and overall learning objectives, reiterating the course's aim to equip participants with practical ML skills.\", chapters=[Chapter(timestamp='0:00', title='Introduction to the machine learning zoom camp course'), Chapter(timestamp='2:21', title='Course updates and structure'), Chapter(timestamp='5:30', title='Questions on job placement and ML engineering skills'), Chapter(timestamp='10:05', title='Prerequisites for the course'), Chapter(timestamp='15:20', title='In-depth content overview and focus areas'), Chapter(timestamp='20:55', title='Companion book and its relevance'), Chapter(timestamp='25:15', title='Expectations and outcomes by course end'), Chapter(timestamp='30:40', title='Certificates and homework deadlines'), Chapter(timestamp='36:05', title='Project structure and requirements'), Chapter(timestamp='41:40', title='Live interaction format and engagement details'), Chapter(timestamp='45:00', title='Final thoughts and course preparation tips')])"
      ]
     },
     "execution_count": 11,
     "metadata": {},
     "output_type": "execute_result"
    }
   ],
   "source": [
    "response.output_parsed"
   ]
  },
  {
   "cell_type": "code",
   "execution_count": 12,
   "id": "7fe74728",
   "metadata": {},
   "outputs": [
    {
     "name": "stdout",
     "output_type": "stream",
     "text": [
      "summary=\"The video provides an overview of the upcoming 'Machine Learning Zoom Camp' course, detailing course structure, prerequisites, and participant engagement. It emphasizes the engineering focus of the course and clarifies that it’s free, with no job placement support. The host encourages interaction through a live Q&A format, addressing various participant questions regarding the course, tools, and outcomes. There’s a discussion on what students can expect in terms of content updates, prerequisites, and overall learning objectives, reiterating the course's aim to equip participants with practical ML skills.\" chapters=[Chapter(timestamp='0:00', title='Introduction to the machine learning zoom camp course'), Chapter(timestamp='2:21', title='Course updates and structure'), Chapter(timestamp='5:30', title='Questions on job placement and ML engineering skills'), Chapter(timestamp='10:05', title='Prerequisites for the course'), Chapter(timestamp='15:20', title='In-depth content overview and focus areas'), Chapter(timestamp='20:55', title='Companion book and its relevance'), Chapter(timestamp='25:15', title='Expectations and outcomes by course end'), Chapter(timestamp='30:40', title='Certificates and homework deadlines'), Chapter(timestamp='36:05', title='Project structure and requirements'), Chapter(timestamp='41:40', title='Live interaction format and engagement details'), Chapter(timestamp='45:00', title='Final thoughts and course preparation tips')]\n"
     ]
    }
   ],
   "source": [
    "print(response.output_parsed)"
   ]
  },
  {
   "cell_type": "code",
   "execution_count": 13,
   "id": "16c75592",
   "metadata": {},
   "outputs": [
    {
     "data": {
      "text/plain": [
       "\"The video provides an overview of the upcoming 'Machine Learning Zoom Camp' course, detailing course structure, prerequisites, and participant engagement. It emphasizes the engineering focus of the course and clarifies that it’s free, with no job placement support. The host encourages interaction through a live Q&A format, addressing various participant questions regarding the course, tools, and outcomes. There’s a discussion on what students can expect in terms of content updates, prerequisites, and overall learning objectives, reiterating the course's aim to equip participants with practical ML skills.\""
      ]
     },
     "execution_count": 13,
     "metadata": {},
     "output_type": "execute_result"
    }
   ],
   "source": [
    "response.output_parsed.summary"
   ]
  },
  {
   "cell_type": "code",
   "execution_count": 14,
   "id": "f2e68878",
   "metadata": {},
   "outputs": [
    {
     "data": {
      "text/plain": [
       "[Chapter(timestamp='0:00', title='Introduction to the machine learning zoom camp course'),\n",
       " Chapter(timestamp='2:21', title='Course updates and structure'),\n",
       " Chapter(timestamp='5:30', title='Questions on job placement and ML engineering skills'),\n",
       " Chapter(timestamp='10:05', title='Prerequisites for the course'),\n",
       " Chapter(timestamp='15:20', title='In-depth content overview and focus areas'),\n",
       " Chapter(timestamp='20:55', title='Companion book and its relevance'),\n",
       " Chapter(timestamp='25:15', title='Expectations and outcomes by course end'),\n",
       " Chapter(timestamp='30:40', title='Certificates and homework deadlines'),\n",
       " Chapter(timestamp='36:05', title='Project structure and requirements'),\n",
       " Chapter(timestamp='41:40', title='Live interaction format and engagement details'),\n",
       " Chapter(timestamp='45:00', title='Final thoughts and course preparation tips')]"
      ]
     },
     "execution_count": 14,
     "metadata": {},
     "output_type": "execute_result"
    }
   ],
   "source": [
    "response.output_parsed.chapters"
   ]
  },
  {
   "cell_type": "code",
   "execution_count": 15,
   "id": "eb4a5fbc",
   "metadata": {},
   "outputs": [
    {
     "name": "stdout",
     "output_type": "stream",
     "text": [
      "The video provides an overview of the upcoming 'Machine Learning Zoom Camp' course, detailing course structure, prerequisites, and participant engagement. It emphasizes the engineering focus of the course and clarifies that it’s free, with no job placement support. The host encourages interaction through a live Q&A format, addressing various participant questions regarding the course, tools, and outcomes. There’s a discussion on what students can expect in terms of content updates, prerequisites, and overall learning objectives, reiterating the course's aim to equip participants with practical ML skills.\n",
      "\n",
      "0:00 Introduction to the machine learning zoom camp course\n",
      "2:21 Course updates and structure\n",
      "5:30 Questions on job placement and ML engineering skills\n",
      "10:05 Prerequisites for the course\n",
      "15:20 In-depth content overview and focus areas\n",
      "20:55 Companion book and its relevance\n",
      "25:15 Expectations and outcomes by course end\n",
      "30:40 Certificates and homework deadlines\n",
      "36:05 Project structure and requirements\n",
      "41:40 Live interaction format and engagement details\n",
      "45:00 Final thoughts and course preparation tips\n"
     ]
    }
   ],
   "source": [
    "summary = response.output_parsed\n",
    "\n",
    "print(summary.summary)\n",
    "print()\n",
    "for c in summary.chapters:\n",
    "    print(c.timestamp, c.title)"
   ]
  },
  {
   "cell_type": "code",
   "execution_count": 16,
   "id": "157f84e9",
   "metadata": {},
   "outputs": [
    {
     "name": "stdout",
     "output_type": "stream",
     "text": [
      "This video is an interlude discussing the upcoming Machine Learning Zoom Camp course, set to start on September 15. The session answers inquiries from potential students regarding course details, prerequisites, content scope, and job readiness after completion. The speaker emphasizes that the course focuses on essential skills for machine learning engineering, notably deployment, and clarifies that while previous content has been updated, foundational modules remain unchanged. Participants are encouraged to utilize provided resources and ask questions through Slido. A significant theme includes the differences between machine learning engineers and data scientists, as well as the importance of practical projects and programming experience.\n",
      "\n",
      "0:00 Introduction to the course\n",
      "1:00 Course structure and registration\n",
      "2:50 Course history and updates\n",
      "5:00 Job placement and engineering focus\n",
      "10:10 Prerequisites for the course\n",
      "14:30 Content overview: math and programming expectations\n",
      "20:25 Audience for the ML Zoom Camp\n",
      "25:40 Course materials and recommended book\n",
      "30:00 Live interaction and deadlines\n",
      "35:20 Project expectations and job readiness\n",
      "40:05 Course engagement and community\n"
     ]
    }
   ],
   "source": [
    "# wrap in a function\n",
    "\n",
    "def llm_structured(instructions, user_prompt, output_format, model=\"gpt-4o-mini\"):\n",
    "    messages = [\n",
    "        {\"role\": \"system\", \"content\": instructions},\n",
    "        {\"role\": \"user\", \"content\": user_prompt}\n",
    "    ]\n",
    "\n",
    "    response = openai_client.responses.parse(\n",
    "        model=model,\n",
    "        input=messages,\n",
    "        text_format=output_format\n",
    "    )\n",
    "\n",
    "    return response.output_parsed\n",
    "\n",
    "summary = llm_structured(\n",
    "    instructions=instructions,\n",
    "    user_prompt=subtitles,\n",
    "    output_format=YTSummaryResponse\n",
    ")\n",
    "\n",
    "print(summary.summary)\n",
    "print()\n",
    "for c in summary.chapters:\n",
    "    print(c.timestamp, c.title)"
   ]
  },
  {
   "cell_type": "markdown",
   "id": "d0b3c1bf",
   "metadata": {},
   "source": [
    "# Section 2: Chunking"
   ]
  },
  {
   "cell_type": "markdown",
   "id": "5479048a",
   "metadata": {},
   "source": [
    "## User def function (sliding window)"
   ]
  },
  {
   "cell_type": "code",
   "execution_count": 17,
   "id": "49afacdf",
   "metadata": {},
   "outputs": [],
   "source": [
    "def sliding_window(seq, size, step):\n",
    "    \"\"\"Create overlapping chunks using sliding window approach.\"\"\"\n",
    "    if size <= 0 or step <= 0:\n",
    "        raise ValueError(\"size and step must be positive\")\n",
    "\n",
    "    n = len(seq)\n",
    "    result = []\n",
    "    for i in range(0, n, step):\n",
    "        batch = seq[i:i+size]\n",
    "        result.append(batch)\n",
    "        if i + size >= n:\n",
    "            break\n",
    "\n",
    "    return result\n",
    "\n",
    "\n",
    "def join_lines(transcript) -> str:\n",
    "    \"\"\"Join transcript entries into continuous text.\"\"\"\n",
    "    lines = []\n",
    "\n",
    "    for entry in transcript:\n",
    "        text = entry.text.replace('\\n', ' ')\n",
    "        lines.append(text)\n",
    "\n",
    "    return ' '.join(lines)\n",
    "\n",
    "def format_chunk(chunk):\n",
    "    \"\"\"Format a chunk with start/end timestamps and text.\"\"\"\n",
    "    time_start = format_timestamp(chunk[0].start)\n",
    "    time_end = format_timestamp(chunk[-1].start)\n",
    "    text = join_lines(chunk)\n",
    "\n",
    "    return {\n",
    "        'start': time_start,\n",
    "        'end': time_end,\n",
    "        'text': text\n",
    "    }\n",
    "\n",
    "    \n"
   ]
  },
  {
   "cell_type": "code",
   "execution_count": 18,
   "id": "59fc1fa7",
   "metadata": {},
   "outputs": [
    {
     "name": "stdout",
     "output_type": "stream",
     "text": [
      "Created 46 chunks\n"
     ]
    }
   ],
   "source": [
    "chunks = []\n",
    "\n",
    "# Experiment with different values: try (30, 10) for more granular chunks\n",
    "for chunk in sliding_window(transcript, 60, 30):\n",
    "    processed = format_chunk(chunk)\n",
    "    chunks.append(processed)\n",
    "\n",
    "print(f\"Created {len(chunks)} chunks\")"
   ]
  },
  {
   "cell_type": "code",
   "execution_count": 19,
   "id": "cd9c7975",
   "metadata": {},
   "outputs": [
    {
     "data": {
      "text/plain": [
       "{'start': '0:00',\n",
       " 'end': '2:38',\n",
       " 'text': \"So hi everyone. Uh today we are going to talk about our upcoming course. The upcoming course is called machine learning zoom camp. And um this is already I put the link in the description. So if you're watching um this video in recording or you're watching it live, you go here in the description after under this video and then you see a link course. uh click on that link and this bring you will bring you to this website this GitHub page. This GitHub page is the main entry point to our course and um yeah I think it's more or less self-explanatory. If you want to sign up this is the button you click and the actual course starts in on September 15th. it means that it's uh slightly less than one one month before the course starts and the purpose of today's um session is to just answer your questions. So you have some questions and uh you can ask these questions using uh you can ask your questions using the pinned link. So there's a pinned link in the live chat. Click on that link um and there ask your questions. So yeah, this is how it looks like and I am just going to uh use this thing. So we can also go to SLO and use ML Zoom camp and I'm going to use that for answering questions. Uh one thing though, so before we start, I just wanted to mention that um this course has been running for uh this will be the fifth edition of this course. So we've been doing this course for quite some time. Many people already graduated from this course and um most of the content we use here is the content I uh recorded like four years ago but we are updating the content so cuz u back then everyone was using Python 3.8 eight or nine something like. So yeah, we are re-recording some of the things in particular. Module one, two, three, four will uh stay the same cuz uh this uh these are the fundamentals. They didn't change. But module five we uh will update. Module 6 will stay the same. Module 8 we will update. Module 9 update update. And this we will not include like we only include it once and this thing get outdated very fast. So we just I just didn't bother updating this at all and it's pretty advanced material. So we will update like four out of 10 modules. So that's the plan. Uh and we already had some workshops for\"}"
      ]
     },
     "execution_count": 19,
     "metadata": {},
     "output_type": "execute_result"
    }
   ],
   "source": [
    "chunks[0]"
   ]
  },
  {
   "cell_type": "code",
   "execution_count": 20,
   "id": "84d6b37e",
   "metadata": {},
   "outputs": [
    {
     "data": {
      "text/plain": [
       "[{'start': '0:00',\n",
       "  'end': '2:38',\n",
       "  'text': \"So hi everyone. Uh today we are going to talk about our upcoming course. The upcoming course is called machine learning zoom camp. And um this is already I put the link in the description. So if you're watching um this video in recording or you're watching it live, you go here in the description after under this video and then you see a link course. uh click on that link and this bring you will bring you to this website this GitHub page. This GitHub page is the main entry point to our course and um yeah I think it's more or less self-explanatory. If you want to sign up this is the button you click and the actual course starts in on September 15th. it means that it's uh slightly less than one one month before the course starts and the purpose of today's um session is to just answer your questions. So you have some questions and uh you can ask these questions using uh you can ask your questions using the pinned link. So there's a pinned link in the live chat. Click on that link um and there ask your questions. So yeah, this is how it looks like and I am just going to uh use this thing. So we can also go to SLO and use ML Zoom camp and I'm going to use that for answering questions. Uh one thing though, so before we start, I just wanted to mention that um this course has been running for uh this will be the fifth edition of this course. So we've been doing this course for quite some time. Many people already graduated from this course and um most of the content we use here is the content I uh recorded like four years ago but we are updating the content so cuz u back then everyone was using Python 3.8 eight or nine something like. So yeah, we are re-recording some of the things in particular. Module one, two, three, four will uh stay the same cuz uh this uh these are the fundamentals. They didn't change. But module five we uh will update. Module 6 will stay the same. Module 8 we will update. Module 9 update update. And this we will not include like we only include it once and this thing get outdated very fast. So we just I just didn't bother updating this at all and it's pretty advanced material. So we will update like four out of 10 modules. So that's the plan. Uh and we already had some workshops for\"},\n",
       " {'start': '1:21',\n",
       "  'end': '3:49',\n",
       "  'text': \"thing. So we can also go to SLO and use ML Zoom camp and I'm going to use that for answering questions. Uh one thing though, so before we start, I just wanted to mention that um this course has been running for uh this will be the fifth edition of this course. So we've been doing this course for quite some time. Many people already graduated from this course and um most of the content we use here is the content I uh recorded like four years ago but we are updating the content so cuz u back then everyone was using Python 3.8 eight or nine something like. So yeah, we are re-recording some of the things in particular. Module one, two, three, four will uh stay the same cuz uh this uh these are the fundamentals. They didn't change. But module five we uh will update. Module 6 will stay the same. Module 8 we will update. Module 9 update update. And this we will not include like we only include it once and this thing get outdated very fast. So we just I just didn't bother updating this at all and it's pretty advanced material. So we will update like four out of 10 modules. So that's the plan. Uh and we already had some workshops for this. Anyways um you have some questions and these questions you use slido for asking these questions and let's get started. Um Alexi question is there a chance of job placement after the program? How deep are we going into computer vision and rock? Okay, so there are three questions actually here. Uh chance of job placement. So we do not provide you job placement. So we are not recruiters. We just teach this uh and we are not a boot camp where you pay money. Right? So this is a free boot camp and our resources are limited. So we cannot really uh do this for you. That said, many of many course participants who took this course in the past successfully found the job. So this is this is going to be the fifth time we are hosting this. So yeah, many many people have graduated from this course and many people found the jobs. So yes, there is a high chance to find a job placement after the program because the teach we the skills we teach here the skills we cover here they are the most important skills for a machine learning engineer. So first we focus on the machine learning part where\"},\n",
       " {'start': '2:41',\n",
       "  'end': '5:10',\n",
       "  'text': \"this. Anyways um you have some questions and these questions you use slido for asking these questions and let's get started. Um Alexi question is there a chance of job placement after the program? How deep are we going into computer vision and rock? Okay, so there are three questions actually here. Uh chance of job placement. So we do not provide you job placement. So we are not recruiters. We just teach this uh and we are not a boot camp where you pay money. Right? So this is a free boot camp and our resources are limited. So we cannot really uh do this for you. That said, many of many course participants who took this course in the past successfully found the job. So this is this is going to be the fifth time we are hosting this. So yeah, many many people have graduated from this course and many people found the jobs. So yes, there is a high chance to find a job placement after the program because the teach we the skills we teach here the skills we cover here they are the most important skills for a machine learning engineer. So first we focus on the machine learning part where we cover scikitlearn um like simplest model models and then we go deeper on the deployment side. So this is the area where many data scientists um don't know or not they know but like maybe this is their weak areas. So this is we we're going a little deeper in this side. That's why it's more like an engineering program, ML engineering program. And with these skills, usually people don't have any problems finding a job. How deep are we going into computer vision and rack? Okay. So we don't go deep into computer vision. We have one module on deep learning and in this deep learning module we uh do we build an image classifier. So this is a model that can classify different types of clothes into images of of clothes into 10 different categories like pants, like shirts, like t-shirts, stuff like that. So this is as uh deep as we go to computer vision. So that's only one module about that. And we also talk about deploying neural networks. So in the serverless model we talked about how okay you have a model how to deploy it and by the way speaking of the deep learning model uh previously we used tensorflow so we are going to\"},\n",
       " {'start': '3:52',\n",
       "  'end': '6:24',\n",
       "  'text': \"we cover scikitlearn um like simplest model models and then we go deeper on the deployment side. So this is the area where many data scientists um don't know or not they know but like maybe this is their weak areas. So this is we we're going a little deeper in this side. That's why it's more like an engineering program, ML engineering program. And with these skills, usually people don't have any problems finding a job. How deep are we going into computer vision and rack? Okay. So we don't go deep into computer vision. We have one module on deep learning and in this deep learning module we uh do we build an image classifier. So this is a model that can classify different types of clothes into images of of clothes into 10 different categories like pants, like shirts, like t-shirts, stuff like that. So this is as uh deep as we go to computer vision. So that's only one module about that. And we also talk about deploying neural networks. So in the serverless model we talked about how okay you have a model how to deploy it and by the way speaking of the deep learning model uh previously we used tensorflow so we are going to update this to pytorch so this year you'll have two options you can go with tensorflow you can also go with pytorch um but yeah it will be basics so we will not go deep so this is not a computer vision class this is a machine learning engineering class so we will just have one lesson And we will focus a lot on deployment not on the theory part. We do not cover rack at all. So for rack if you're interested in rack there is another course called LLM Zoom camp. It has almost finished but all the materials are available for self-studying. Um so yeah here's you can check it. So we don't cover a rock in machine learning course but there's another course where we go pretty deep into this maybe not super deep but like we cover a lot of things when it comes to AI engineering. Uh are there any prerequisites to get the most out of the boot camp? Yes, you need to be uh comfortable with programming and with command line. So some basic linear algebra will help but this is not super important. So you we um provide all the\"},\n",
       " {'start': '5:13',\n",
       "  'end': '7:44',\n",
       "  'text': \"update this to pytorch so this year you'll have two options you can go with tensorflow you can also go with pytorch um but yeah it will be basics so we will not go deep so this is not a computer vision class this is a machine learning engineering class so we will just have one lesson And we will focus a lot on deployment not on the theory part. We do not cover rack at all. So for rack if you're interested in rack there is another course called LLM Zoom camp. It has almost finished but all the materials are available for self-studying. Um so yeah here's you can check it. So we don't cover a rock in machine learning course but there's another course where we go pretty deep into this maybe not super deep but like we cover a lot of things when it comes to AI engineering. Uh are there any prerequisites to get the most out of the boot camp? Yes, you need to be uh comfortable with programming and with command line. So some basic linear algebra will help but this is not super important. So you we um provide all the say refreshment materials here. So we talk about linear algebra and numpy and we illustrate everything with code. So even if you never took linear algeb algebra class uh the concepts we explained here they are there enough. So the main prerequisite is knowing how to program. If you don't know Python, you should be able to uh pick it quickly. And if you know any other programming language like Java, JavaScript, whatever, R, you shouldn't be it shouldn't be difficult for you to pick up Python. And then where's actually our prerequisites? Yeah, here. And then uh starting with uh starting from module number five, we will use command line a lot. And this is um where this experience with prior experience using command line will help. Of course, not everyone has this experience. So you can pick it up too. But expect that uh here when we go from module 4 to module 5. So um if um for you software engineering is something you don't do regularly then it's going to take the model number five is going to take um significantly more time than the first four and this is based on what\"},\n",
       " {'start': '6:27',\n",
       "  'end': '9:12',\n",
       "  'text': \"say refreshment materials here. So we talk about linear algebra and numpy and we illustrate everything with code. So even if you never took linear algeb algebra class uh the concepts we explained here they are there enough. So the main prerequisite is knowing how to program. If you don't know Python, you should be able to uh pick it quickly. And if you know any other programming language like Java, JavaScript, whatever, R, you shouldn't be it shouldn't be difficult for you to pick up Python. And then where's actually our prerequisites? Yeah, here. And then uh starting with uh starting from module number five, we will use command line a lot. And this is um where this experience with prior experience using command line will help. Of course, not everyone has this experience. So you can pick it up too. But expect that uh here when we go from module 4 to module 5. So um if um for you software engineering is something you don't do regularly then it's going to take the model number five is going to take um significantly more time than the first four and this is based on what the students said uh for them the switch from Jupyter notebook to u creating uh web services was quite difficult. So this is um right now we still have a lot of time. So if you think this is your weak site, maybe check this module now and see what are the things you're lacking you're missing. And also as a um what we did recently was a workshop going to share the link with this workshop where I revised this module number five. So maybe you can just uh check that. Let me see. Um yeah, this one. So I'm going to share it with you right now. uh here and I'll also put this in description for those who are watching this in recording workshop on UV and fast API. So this is a workshop that you can check right now to see um just to evaluate yourself if you feel comfortable with the things that are happening in this workshop. If you don't feel comfortable, you still have time to catch up on some things like using terminal um and so on. And uh I think there's a question CLI is it powershell PowerShell or Linux? So we you in the course we use bash um so it's not powershell. If you are more\"},\n",
       " {'start': '7:47',\n",
       "  'end': '10:22',\n",
       "  'text': \"the students said uh for them the switch from Jupyter notebook to u creating uh web services was quite difficult. So this is um right now we still have a lot of time. So if you think this is your weak site, maybe check this module now and see what are the things you're lacking you're missing. And also as a um what we did recently was a workshop going to share the link with this workshop where I revised this module number five. So maybe you can just uh check that. Let me see. Um yeah, this one. So I'm going to share it with you right now. uh here and I'll also put this in description for those who are watching this in recording workshop on UV and fast API. So this is a workshop that you can check right now to see um just to evaluate yourself if you feel comfortable with the things that are happening in this workshop. If you don't feel comfortable, you still have time to catch up on some things like using terminal um and so on. And uh I think there's a question CLI is it powershell PowerShell or Linux? So we you in the course we use bash um so it's not powershell. If you are more comfortable using powershell that works too. So the examples should be transferable to powershell but we use bash. So I use I have windows and on these windows I still have bash right. So this is how my terminal looks like. So and the examples um I have I show they are um so most of the time actually we suggest to use code spaces. This is the environment uh that you can get for free from GitHub and then you have a Linux there. You have a Linux with Docker with Python with everything you need. So it's the simplest way to actually get the environment is just get a code spaces um and then you will not need to install anything. So that that are the prerequisites being able to feeling comfortable with programming and with command line and don't forget that this course is an engineering course. This is not a data science course. So we will do a lot of coding. I have not worked with PyTorch and TensorFlow before. Will this be a problem when we start learning new neural networks? No. So for everything we show here, um we don't of course\"},\n",
       " {'start': '9:15',\n",
       "  'end': '11:37',\n",
       "  'text': \"comfortable using powershell that works too. So the examples should be transferable to powershell but we use bash. So I use I have windows and on these windows I still have bash right. So this is how my terminal looks like. So and the examples um I have I show they are um so most of the time actually we suggest to use code spaces. This is the environment uh that you can get for free from GitHub and then you have a Linux there. You have a Linux with Docker with Python with everything you need. So it's the simplest way to actually get the environment is just get a code spaces um and then you will not need to install anything. So that that are the prerequisites being able to feeling comfortable with programming and with command line and don't forget that this course is an engineering course. This is not a data science course. So we will do a lot of coding. I have not worked with PyTorch and TensorFlow before. Will this be a problem when we start learning new neural networks? No. So for everything we show here, um we don't of course expect you to know this uh prior to the course. So we don't expect you to know any machine learning. Uh we're here to actually teach you machine learning. So you're here to learn machine learning. So that's why we start from like really basic things and then progress to more difficult ones. So you don't need to know any scikitlearn. You will learn psychit learn here. You do not need to learn uh so for example here we teach docker you don't need to have prior experience with docker here we teach uh we talk about virtual environments you don't need to have this experience working with virtual environments. So we all um we teach all these things here but of course if you already worked with Python and know what virtual environments are uh then good for you. So then for you model number five will be like the easiest and same applies with uh deep learning. So if you already used um PyTorch then for you probably the module about deep learning will be easy cuz if you use PyTorch you probably know everything already. So we um this is for people who don't know PyTorch and TensorFlow. Uh is ML zoom camp for people who want\"},\n",
       " {'start': '10:26',\n",
       "  'end': '12:53',\n",
       "  'text': \"expect you to know this uh prior to the course. So we don't expect you to know any machine learning. Uh we're here to actually teach you machine learning. So you're here to learn machine learning. So that's why we start from like really basic things and then progress to more difficult ones. So you don't need to know any scikitlearn. You will learn psychit learn here. You do not need to learn uh so for example here we teach docker you don't need to have prior experience with docker here we teach uh we talk about virtual environments you don't need to have this experience working with virtual environments. So we all um we teach all these things here but of course if you already worked with Python and know what virtual environments are uh then good for you. So then for you model number five will be like the easiest and same applies with uh deep learning. So if you already used um PyTorch then for you probably the module about deep learning will be easy cuz if you use PyTorch you probably know everything already. So we um this is for people who don't know PyTorch and TensorFlow. Uh is ML zoom camp for people who want to become data scientists or ML engineers? Kind of both but targeted more for ML engineers because we have a lot of uh again let me open it a lot of topics are engineering. So deployment uh serverless kubernetes they are engineering topics. Uh typically data scientists they are exposed to these things to small extent than uh than ML engineers. uh that's why this is ML engineering an ML engineering course and then K surf uh yeah we don't really um cover it here but this is also an engineering topic so I think uh the content is still useful but it's kind of very outdated because these things change very fast and I don't have opportunity to keep it up to date every year but anyways um so we have a lot of engineering topics so I I would say this is more uh g this is more tailored to um those who want to become MEL engineers but data scientists will also um find it useful. Many data scientists said okay yeah like I already knew um like I know module number one 2 4 6 8 this was already like I already knew things but module five uh 9 and 10 were super useful. So for data scientists this information\"},\n",
       " {'start': '11:40',\n",
       "  'end': '14:19',\n",
       "  'text': \"to become data scientists or ML engineers? Kind of both but targeted more for ML engineers because we have a lot of uh again let me open it a lot of topics are engineering. So deployment uh serverless kubernetes they are engineering topics. Uh typically data scientists they are exposed to these things to small extent than uh than ML engineers. uh that's why this is ML engineering an ML engineering course and then K surf uh yeah we don't really um cover it here but this is also an engineering topic so I think uh the content is still useful but it's kind of very outdated because these things change very fast and I don't have opportunity to keep it up to date every year but anyways um so we have a lot of engineering topics so I I would say this is more uh g this is more tailored to um those who want to become MEL engineers but data scientists will also um find it useful. Many data scientists said okay yeah like I already knew um like I know module number one 2 4 6 8 this was already like I already knew things but module five uh 9 and 10 were super useful. So for data scientists this information is useful and when I was a data scientist for me knowing how to deploy things were quite nice. Is there a recommended companion book for the course? Yes. Uh so actually this course is based on a book I wrote machine learning book amp. So this is the book website. Uh I think I can share it here. Yeah. And then let me put it also here. So this course is based on the book. Uh but the book was written more than 5 years ago or like it was finished around uh maybe half a year before the course or maybe a year before the course was recorded. Um so yeah the some of the some parts of the book are slightly outdated. So this is what I'm going to fix right now um with this course. In this course we are reording some of the materials. So because the book is outdated you will find the examples you have in this course uh before the update. So we still use u flask there. Instead of fast fast API for example we use tensorflow there. Instead of PyTorch, we use Python 3.7 maybe like a relatively old uh Python instead of 3.13 and so on. But um the the course is\"}]"
      ]
     },
     "execution_count": 20,
     "metadata": {},
     "output_type": "execute_result"
    }
   ],
   "source": [
    "chunks[:10]"
   ]
  },
  {
   "cell_type": "markdown",
   "id": "05ced9fb",
   "metadata": {},
   "source": [
    "## Chunk using langchain"
   ]
  },
  {
   "cell_type": "code",
   "execution_count": 22,
   "id": "d6a79608",
   "metadata": {},
   "outputs": [
    {
     "data": {
      "application/vnd.jupyter.widget-view+json": {
       "model_id": "9ecc29b8a20043c2bf031a2a0449f9a0",
       "version_major": 2,
       "version_minor": 0
      },
      "text/plain": [
       "  0%|          | 0/1407 [00:00<?, ?it/s]"
      ]
     },
     "metadata": {},
     "output_type": "display_data"
    }
   ],
   "source": [
    "clean_transcript=\"\"\n",
    "for line in tqdm(transcript):\n",
    "    clean_transcript += line.text + \" \""
   ]
  },
  {
   "cell_type": "code",
   "execution_count": 23,
   "id": "f4bc5e60",
   "metadata": {},
   "outputs": [
    {
     "data": {
      "text/plain": [
       "\"So hi everyone. Uh today we are going to talk about our upcoming course. The upcoming course is called machine learning zoom camp. And um this is already I put the link in the description. So if you're watching um this video in recording or you're watching it live, you go here in the description after under this video and then you see a link course. uh click on that link and this bring you will bring you to this website this GitHub page. This GitHub page is the main entry point to our course and um yeah I think it's more or less self-explanatory. If you want to sign up this is the button you click and the actual course starts in on September 15th. it means that it's uh slightly less than one one month before the course starts and the purpose of today's um session is to just answer your questions. So you have some questions and uh you can ask these questions using uh you can ask your questions using the pinned link. So there's a pinned link in the live chat. Click on that link um and there ask your questions. So yeah, this is how it looks like and I am just going to uh use this thing. So we can also go to SLO and use ML Zoom camp and I'm going to use that for answering questions. Uh one thing though, so before we start, I just wanted to mention that um this course has been running for uh this will be the fifth edition of this course. So we've been doing this course for quite some time. Many people already graduated from this course and um most of the content we use here is the content I uh recorded like four years ago but we are updating the content so cuz u back then everyone was using Python 3.8 eight or nine something like. So yeah, we are re-recording some of the things in particular. Module one, two, three, four will uh stay the same cuz uh this uh these are the fundamentals. They didn't change. But module five we uh will update. Module 6 will stay the same. Module 8 we will update. Module 9 update update. And this we will not include like we only include it once and this thing get outdated very fast. So we just I just didn't bother updating this at all and it's pretty advanced material. So we will update like four out of 10 modules. So that's the plan. Uh and we already had some workshops for this. Anyways um you have some questions and these questions you use slido for asking these questions and let's get started. Um Alexi question is there a chance of job placement after the program? How deep are we going into computer vision and rock? Okay, so there are three questions actually here. Uh chance of job placement. So we do not provide you job placement. So we are not recruiters. We just teach this uh and we are not a boot camp where you pay money. Right? So this is a free boot camp and our resources are limited. So we cannot really uh do this for you. That said, many of many course participants who took this course in the past successfully found the job. So this is this is going to be the fifth time we are hosting this. So yeah, many many people have graduated from this course and many people found the jobs. So yes, there is a high chance to find a job placement after the program because the teach we the skills we teach here the skills we cover here they are the most important skills for a machine learning engineer. So first we focus on the machine learning part where we cover scikitlearn um like simplest model models and then we go deeper on the deployment side. So this is the area where many data scientists um don't know or not they know but like maybe this is their weak areas. So this is we we're going a little deeper in this side. That's why it's more like an engineering program, ML engineering program. And with these skills, usually people don't have any problems finding a job. How deep are we going into computer vision and rack? Okay. So we don't go deep into computer vision. We have one module on deep learning and in this deep learning module we uh do we build an image classifier. So this is a model that can classify different types of clothes into images of of clothes into 10 different categories like pants, like shirts, like t-shirts, stuff like that. So this is as uh deep as we go to computer vision. So that's only one module about that. And we also talk about deploying neural networks. So in the serverless model we talked about how okay you have a model how to deploy it and by the way speaking of the deep learning model uh previously we used tensorflow so we are going to update this to pytorch so this year you'll have two options you can go with tensorflow you can also go with pytorch um but yeah it will be basics so we will not go deep so this is not a computer vision class this is a machine learning engineering class so we will just have one lesson And we will focus a lot on deployment not on the theory part. We do not cover rack at all. So for rack if you're interested in rack there is another course called LLM Zoom camp. It has almost finished but all the materials are available for self-studying. Um so yeah here's you can check it. So we don't cover a rock in machine learning course but there's another course where we go pretty deep into this maybe not super deep but like we cover a lot of things when it comes to AI engineering. Uh are there any prerequisites to get the most out of the boot camp? Yes, you need to be uh comfortable with programming and with command line. So some basic linear algebra will help but this is not super important. So you we um provide all the say refreshment materials here. So we talk about linear algebra and numpy and we illustrate everything with code. So even if you never took linear algeb algebra class uh the concepts we explained here they are there enough. So the main prerequisite is knowing how to program. If you don't know Python, you should be able to uh pick it quickly. And if you know any other programming language like Java, JavaScript, whatever, R, you shouldn't be it shouldn't be difficult for you to pick up Python. And then where's actually our prerequisites? Yeah, here. And then uh starting with uh starting from module number five, we will use command line a lot. And this is um where this experience with prior experience using command line will help. Of course, not everyone has this experience. So you can pick it up too. But expect that uh here when we go from module 4 to module 5. So um if um for you software engineering is something you don't do regularly then it's going to take the model number five is going to take um significantly more time than the first four and this is based on what the students said uh for them the switch from Jupyter notebook to u creating uh web services was quite difficult. So this is um right now we still have a lot of time. So if you think this is your weak site, maybe check this module now and see what are the things you're lacking you're missing. And also as a um what we did recently was a workshop going to share the link with this workshop where I revised this module number five. So maybe you can just uh check that. Let me see. Um yeah, this one. So I'm going to share it with you right now. uh here and I'll also put this in description for those who are watching this in recording workshop on UV and fast API. So this is a workshop that you can check right now to see um just to evaluate yourself if you feel comfortable with the things that are happening in this workshop. If you don't feel comfortable, you still have time to catch up on some things like using terminal um and so on. And uh I think there's a question CLI is it powershell PowerShell or Linux? So we you in the course we use bash um so it's not powershell. If you are more comfortable using powershell that works too. So the examples should be transferable to powershell but we use bash. So I use I have windows and on these windows I still have bash right. So this is how my terminal looks like. So and the examples um I have I show they are um so most of the time actually we suggest to use code spaces. This is the environment uh that you can get for free from GitHub and then you have a Linux there. You have a Linux with Docker with Python with everything you need. So it's the simplest way to actually get the environment is just get a code spaces um and then you will not need to install anything. So that that are the prerequisites being able to feeling comfortable with programming and with command line and don't forget that this course is an engineering course. This is not a data science course. So we will do a lot of coding. I have not worked with PyTorch and TensorFlow before. Will this be a problem when we start learning new neural networks? No. So for everything we show here, um we don't of course expect you to know this uh prior to the course. So we don't expect you to know any machine learning. Uh we're here to actually teach you machine learning. So you're here to learn machine learning. So that's why we start from like really basic things and then progress to more difficult ones. So you don't need to know any scikitlearn. You will learn psychit learn here. You do not need to learn uh so for example here we teach docker you don't need to have prior experience with docker here we teach uh we talk about virtual environments you don't need to have this experience working with virtual environments. So we all um we teach all these things here but of course if you already worked with Python and know what virtual environments are uh then good for you. So then for you model number five will be like the easiest and same applies with uh deep learning. So if you already used um PyTorch then for you probably the module about deep learning will be easy cuz if you use PyTorch you probably know everything already. So we um this is for people who don't know PyTorch and TensorFlow. Uh is ML zoom camp for people who want to become data scientists or ML engineers? Kind of both but targeted more for ML engineers because we have a lot of uh again let me open it a lot of topics are engineering. So deployment uh serverless kubernetes they are engineering topics. Uh typically data scientists they are exposed to these things to small extent than uh than ML engineers. uh that's why this is ML engineering an ML engineering course and then K surf uh yeah we don't really um cover it here but this is also an engineering topic so I think uh the content is still useful but it's kind of very outdated because these things change very fast and I don't have opportunity to keep it up to date every year but anyways um so we have a lot of engineering topics so I I would say this is more uh g this is more tailored to um those who want to become MEL engineers but data scientists will also um find it useful. Many data scientists said okay yeah like I already knew um like I know module number one 2 4 6 8 this was already like I already knew things but module five uh 9 and 10 were super useful. So for data scientists this information is useful and when I was a data scientist for me knowing how to deploy things were quite nice. Is there a recommended companion book for the course? Yes. Uh so actually this course is based on a book I wrote machine learning book amp. So this is the book website. Uh I think I can share it here. Yeah. And then let me put it also here. So this course is based on the book. Uh but the book was written more than 5 years ago or like it was finished around uh maybe half a year before the course or maybe a year before the course was recorded. Um so yeah the some of the some parts of the book are slightly outdated. So this is what I'm going to fix right now um with this course. In this course we are reording some of the materials. So because the book is outdated you will find the examples you have in this course uh before the update. So we still use u flask there. Instead of fast fast API for example we use tensorflow there. Instead of PyTorch, we use Python 3.7 maybe like a relatively old uh Python instead of 3.13 and so on. But um the the course is largely based on the book and all the examples we have here uh in this course they are from the book. So yeah, this is a recommended book uh for this course. Yeah. Do you need to have to learn any prerequisites like math? Not necessarily. Um, knowing linear algebra will help. Um, but as I said, all the linear algebra you need to know, I cover here in this linear algebra uh unit. Maybe you can check it right now to see how much of this is still not clear after you watch the videos. I try to illustrate everything with u numpy. So for me as a developer, seeing things in code really helps. So maybe for you too. So check it out and um like if you understand what's happening here then I think you're good uh to with math when it comes to math. So you only need um some basic linear algebra. We use this linear algebra in module number two when we implement linear regression ourselves. But then starting from module number three, we don't use any mathematics at all cuz uh we start using scikitlearn and uh scikitlearn um implements everything we need right so we don't really need to uh worry about math right and then for you if some things are difficult to understand some theory cuz here like let's say when I talk about linear regression um yeah I use some formulas but if you don't understand these formulas it's fine and you can just implement what I show and then move on. This is not crucial for getting the most out of the course. When you work as a data scientist, knowing math will be important. Knowing some linear algebra, knowing some statistics will be important. If you're going to work as a machine learning engineer, these things will be less important than for data scientists because the focus for ML engineers is more on the engineering side rather than modeling side. Right? So that's why um it's helpful to know some mathematics uh but yeah not strictly necessary and then these things you can pick up as you uh go through the course as you do projects or as you work right so uh to answer your question no stick prerequisites but some linear algebra will be helpful maybe you can check this uh unit I was talking about right now and see if you need to pick up anything but I don't expect any problems like if you're uh an engineer, if you know how to program, then for you this is enough. Do I need a efficient workstation? Like probably asked you asked, do you need a good computer to uh work on this um course? No. Um actually what you can use is um a code space I think. Oh wait, I think code spaces GitHub code spaces. If you go to here environment here I show how to um configure GitHub code spaces and actually the environment you get there for code spaces is relatively is very not powerful it just have has two CPUs and I don't know how I don't remember how many how much RAM but yeah this is not um very powerful um so then what you need to have is just a computer with Python or computer with internet if you don't if you cannot install some things or maybe you I know some students uh from Nigeria uh that we have that we had in the past they didn't even have a computer they just had a tablet they could still finish the course so they could use um this code spaces they could connect to code spaces from their tablet and then they could program everything they needed um I think they had some external um keyboard board. But anyways, like all you need is motivation to finish. Um, and internet. Yeah, internet is also important. Can we use chip or other lamps? Yeah, you can like I I would actually recommend using them every time you see a piece of code you don't understand. You just copy it to charge and ask it to explain. And that works really well cuz you can uh if you still don't understand some of the explanations, you can continue uh you can keep asking it until you understand. So this is really good. I do recommend to use chbpt for everything, not just common uh lines in Python, for all the things uh that in the course. I recommend using it because for me it helps me personally tremendously for not just courses but also for other things that I learn for other things that I explore or my interests. So I recommend that you use it too. Um uh yeah I think I answered this question about prerequisites is the zoom cup will be helpful to target these roles ML ops or AI platform engineering data infrastructure cloud and engineer infrastructure engineer oh yeah you have quite a lot of things uh I don't think this zoom camp will be helpful for any of those roles so for mlops um so what we have we also have a course called emlops zoom So let me share this link with you if you're interested. So we have this course but for me this MLOps course is just a so let's say this one is more for beginner ML engineers and MLOps course is more like intermediate ML engineers. So it's still about ML engineering. So we don't really talk about um you know classical ops uh in terms of DevOps uh but we show how to streamline uh operations right. Right. So this is what envelops is about like how to automate some things. Uh so this uh neither of these courses is good for cloud engineers or data infrastructure engineers or yeah like any infrastructure engineers or uh DevOps in general but these two courses will teach you how to become a good ML engineer. Um now I don't know what exactly you mean by MLOps because people may mean different things by this but yeah so this is for ML engineering. Uh for data engineering uh do you recommend taking this course depends on your goals. If your goal is to learn data engineering then no I do not recommend. If you're a data engineer who work with machine learners, machine learning engineers and with data scientists and you want to understand what what is happening, what they are doing, this course will be very helpful. When it comes to data engineering, we actually have a course called data engineering zoom camp that is focused specifically on data engineering. So this is what you should take instead if you are interested in data engineering. So this course will be tangentally useful just to broaden your horizons. Uh if you work with ML teams uh yes it will be helpful to understand what they are doing but for you as data engineer for your career uh unless you plan to work with ML it will not be very useful. Please explain what jobs are suitable for each course in Zoom camp. Okay, let's try now we have courses. So these are the courses. So the courses we have MLOps zoom camp, data engineer zoom camp, machine learning zoom camp, llm zoom camp. So ML uh ML zoom camp this course is for ML engineers and data scientists. Um MLOps uh zoom camp is for ML engineers again slightly more advanced course than this one. Um so there is also a role called MLOps engineer but it may mean very different things for different companies. So um yeah we teach some uh automation some things like that like make files and so on. Um but yeah so in some cases MLOps engineer is somebody who builds platform for ML engineers then this is not about building platform but it will it talks about different steps and procedures of the ML process. Uh data engineer zoom camp is of course for data engineers uh also for data scientists who want to become better at building pipelines and then LM zoom camp is for AI engineers and data scientists. Then we also have analytics and stock market zoom camp. This is not a course I teach. So this is uh this is done by Ivan who's u like who's leading the course. Um so for him uh the for his course the target audience like it's for people who want to build um who want to trade and who want to build tools for trading. Um then we also have a AI dev tools zoom camp which is not here yet because this is still work in progress. This is course for engineers who want to use AI to become uh more proficient. Okay, let me share this link too. Okay, I think I was answering this question. Now, are you going to teach something new this time or we just have to watch old videos? Um, I think I explained it. uh yes you'll have to watch old videos but there is also new material so I uh this year I am updating some of the uh things some of the modules so you will have to watch well I don't like to say have to nobody's forcing you but if you wish to learn something you can decide to watch all videos yes but uh trust me these videos are going to be very useful to you um as they have been very useful to many people before you. Uh but also yeah there will be new things too. Uh what do you recommend for taking the course for the official repo and working or uh I would recommend creating a new one and adding I think maybe I do have examples here. Yeah, I would recommend to create a separate repo and then put all your homeworks there. um put your uh for projects I would recommend for each project to create a several ripple I don't have any programming skill would it be a challenge yes it will be a challenge but there are some people who finish the course despite that it just depends on how it just depends on your motivation how much time you have how much extra you're willing to learn cuz you will need to learn a lot so it will not be easy it will be very difficult so it will be a challenge but still you can overcome this challenge. If you're motivated, if you want to get into machine learning and if you want to get into machine learning, you have to learn programming. So, it doesn't matter if you want to become a data scientist or a male engineer, you will have to learn programming. So, there's no way around that. So, better start earlier, sooner than later. So, you can start now. Uh the end of the cohort, what level of machine learning mastery will we have reached? Um depends how you measure it. So what I wanted to cover in this course is the 20% that will give you 80% of the results right but still there is much much much more out there that you need to um learn. So let's say after finishing this course you will not be able to win a Kaggle competition but after finishing this course you will be able to put an end to end machine learning project. So um I don't know get a data set um decide what kind of model you want to train train this model and then serve this model. So it will be an end to- end project that you will be able to accomplish which is enough to get hired but this is uh in no way um how to say mastery right so the path to mastery is very long and will require a lot of work so you will not be a senior ML engineer by the end of by the end you finish by the time you finish the course but uh you'll have enough knowledge to be an entry- level ML engineer um Yeah. So, you'll be able to independently create some things. Will we have any certificates to put on LinkedIn? Yes, you will. I think we even have an example. Do we? Let me check. Uh yeah, actually we have uh like if you go to the articles, we have some success stories from previous uh students. Um does he share his certificate? Yeah, this is the model he built now. So what I will do is I will just share these articles with you and you can check them out. I see that there are some questions in the chat. So, it's better to use the slider link cuz for me it's very difficult to keep track of the questions in the live chat. So, let's see here. Do we have I think we somewhere had an example of a certificate but yeah there will be a certificate. So I just wanted to show it but uh I don't think I can easily buy Oh actually I think I can so certificates. Yeah, here is an example. So this is how certificates will look like. So this is something you can upload to LinkedIn and we actually have instructions of how you can add this to LinkedIn. What does life cohort look like? Are there any deadlines? Yes. Um so the um we do this everything in a live cohort. There are deadlines. So um this is uh the platform we are going to use for learning. And let's take a look at the last year. So you see we have homework and then we have deadline for this homework right for each homework we have deadlines you have to finish the homework before the deadline and all the interactions happen in slack so in slack there are other fellow learners with who you can interact uh also the course instructors are there in slack so we help you too but mostly you interact with other learners um and yeah so every week or sometimes for some modules we have two weeks uh per model. Just a second. For some weeks we have two weeks per model. For some uh for some modules we have one week per module. Um and then everyone works at the same time at the same thing. Right? So that's the main idea. Then um last year we also had a competition a competition on Kaggle. So this year we might have something too. And then also projects are here. So everything uh we work on is here on this platform and yeah we have some deadlines after the deadline passed you will not be able to submit the homework. So usually after the deadline we score all the homeworks we publish the solutions that's why after the deadline once the solutions are published it doesn't make sense to actually keep it open right because you can see the solutions and simply copy it. So yeah, so there are deadlines to keep you to help you um um with um sticking to the schedule. Then we also have a leaderboard where I think Alexander this is the person who wrote uh this article, right? It's actually he wrote too. Cool. Um so uh yeah we have this uh leaderboard and then uh you get points by um solving homeworks correctly and by sharing your progress in public. So we encourage learning in public. Um yeah we will talk about this more on the course lounge. But we encourage everything you learn to uh to share in public. And I I think I can um also share this thing. Do I have the same thing? Oh, so just yesterday I interviewed one of the students uh pastor. So pastor um he finished first on the leaderboard I think it was two years ago. So he shares his experience and also how public learning helped him. So I think this is a really cool episode, really cool interview. I will share it with you. Uh and then um inter view with pastor. So many good things happened to pastor after he shared the the learning after he learned in public. So uh we encourage you to do this and then we have this leaderboard. Okay. So yeah, once the course starts, you will have um these lessons with deadlines. Uh these deadlines will change as we go along the course because some things happen. Um sometimes there are delays. Uh yeah, but at the beginning we give you a rough uh schedule. So then you can some do some planning. Are there zoom lectures or live sessions on YouTube and learning while learning and what time? So all the things are pre-recorded. We will have one live stream for the launch and that's it. So we used to have um we used to have office hours. Right now I don't see any point in uh doing these office hours cuz we have done these office hours in the past. All the questions that people had I answered. So you can just rewatch the old office hours videos. Uh so there will be no live sessions. Um, you just watch pre-recorded videos and then you interact with others in Slack. Uh, yeah, I think I just answered that. Is it best to use a Kaggle data set or to find one ourselves? Is it a question about the project? Um, like Kaggle is a good platform for data sets, but it's not the only source. You can find data sets in other places too. So, It doesn't matter actually. I answered that question. Would you do a data science to camp? No. Uh I mean this one is kind of data scienceish cuz uh if we look at the syllabus, we have uh one, two, three, four, five, six modules. Did I correctly? One, two, three, four, five, six. Yeah, six modules or seven uh that are about data science. I think that's enough. Yeah, I don't see a point in creating another course just for that. So, it will be like the same material. Uh will we will we deploy ML models locally or use remote environment both? Um actually for the course uh for the project of the course you will get extra point if you deploy to the cloud uh but also I know some of you cannot um for whatever reasons um do the cloud thing then you can just deploy locally you will just get fewer points but we do show how to deploy to the cloud not just locally. I am a data engineer and I want to become a male engineer. Will this course help? If yes, how much? Yes, it will. Um, I don't know how to answer the second like very much. Yeah, well, it will help you. Yeah. Um, what is the better job for the future? Data engineer, data scientist or how do you measure better like um um the way I would rephrase it, what is the better job for me in the future? Do I enjoy doing data engineering, data science or machine learning? So once you have the answer then you have the answer for this question cuz the the point is to do what you enjoy most like if let's say somebody says oh yeah data engineers are more in more demand cuz there are more vacancies but then you hate data engineering you don't like it like so does it mean you have to do it or maybe there are fewer ML engineering jobs but you just like it more so then just go with this so yeah and then who knows maybe AI will replace all of them. So yeah, I'm I'm joking. I don't think it will replace but um yeah, in terms of better like you define better and then yeah, you just select it for yourself. Is there a leaderboard? Yeah, we talked about the leaderboard. Will anyone with zero technical background uh where is Hendrick to get this? Yeah, I I think I answered that. So if you have the motivation, if you have the time and if you're willing to put the time and energy into this then you will be able to finish. Uh so there will be three projects and in order to get a certificate you will need to finish two out of three at least. So you can finish three of course but you need to finish at least two. So it will be a midterm project and uh so midterm project will happen between um let me check uh yeah so you see we have module number six and then module number eight so we kind of jump so there is no module number seven so what happens here is the midterm project and then we will also have after the Kubernetes module we will have two more projects so out of these three projects you will need to finish two uh what the prerequisites we talked about what is the weekly time commitment. So it really depends on your background but we have some numbers from the past. So you can see you can go to any homework and see homework statistics and then you can see how much time people spend on this. So on average people spend 4 hours watching lectures and 2 hours watching or doing the homework. So it probably means that the homework was too simple and this year we need to make it more complex, right? But of course uh yeah it all depends on your background. So for most people it was easy or I mean it was just 6 hours and this module lasted two weeks. I don't think it's a lot of time. Uh but then let's say take is deploying see statistics. Yeah, this one is uh wait time spent. Yeah, so people spend more time watching lectures here and more time on homework. So this one was more difficult. So you can do this uh for um projects. I still need to implement the dashboard like that. Uh the data is there. I just need to build the page. Uh maybe I just should just use cursor for that. The d is there. I just need to um visualize visualize it. So what I what I want to have is a dashboard for all the homeworks and projects on one page. And by the way, if you want to help with uh this uh this actually is a jungle project. So all of that is open source. And uh yeah, if you have some free time and you want to help with uh some of these things, uh your contributions are welcome. Uh please reach to me in Slack first. Uh if you want to do something, don't just open a PR. Um then we discuss what's the best way of implementing this then you go ahead and implement um yeah that's also possible but um if no one volunteers eventually I want to implement this one dashboard that shows the effort you need to put for all the homeworks and the projects too. So uh but speaking of the projects I think it's uh 10 to 20 10 to 20 hours of work to do the project. So let's say 10 per week would be a nice estimate uh upper uh estimate from five five to 10. Will the capstone projects be something we can use in our portfolio to show recruiters or hiring green managers? Yes. Yes, definitely. And I was talking about this video with pastor. So he finished was it three years ago? Um but he says he still uses his uh three projects. So he completed um u the midterm at two capstones and he still uses these projects uh when he talks to clients. So he works as a freelancer and then he has his portfolio and then he shows that uh to people still shows this. So yes definitely and this is the intention. So the intention we have for you when you uh build your projects for the course think of these projects not as projects that you do it for the course but the projects you do for yourself for your project portfolio and for the hiring managers. So think that it's not only uh your peer students who will evaluate these projects but also eventually it will be a hiring manager who will look at the projects. So keep this in mind when you work on the projects and then you will have very nice additions to your project portfolio. Uh do you set up an environment for deploying the models? Uh in a couple of phrases, how is deployment going to look like? Um so deployment. Okay. So first of all, the environment for training for the course is as I said it's a Linux environment. Uh the recommended environment wait I I think I might be confusing you. So you can you can work anywhere you want. Could be your laptop, could be um a machine you rent on the cloud. The recommended environment is GitHub code spaces. When you use GitHub code spaces, you get a Linux machine. It's a Debian based Linux. So things like app get work there. You have Docker there. Um so this is the environment uh we recommend to use for learning. Then at some point it's module five where we will talk about virtual uh environments and uh containerization and deployment. We will introduce tools like uh UV like docker um like in the workshop we used fly io for deploying or in the model we used elastic bins. There are also many many other ways to deploy your models. Then it's up to you to decide how where you want to deploy. But the main part here is containerization uh which we do with docker and uh yeah so that's the main kind of environment I guess uh but yeah so then um also we talk a lot about um we have a module on serverless where we show how to do how to do deployment with AWS Lambda and we talk about Kubernetes where we show how to do deployment with Kubernetes. So once you have once you package things in your Docker container, you can deploy it virtually everywhere anywhere you want, right? Fly IO, uh AWS services, Kubernetes, whatever. Okay. Will we learn how to handle ML model monitoring and model retraining workflows like in production systems? No. This is something you we cover in MLOps zoom camp not in this one. Uh will taking the course be useful for aspiring data engineers? I think I answered this questions. Um so if your goal is to become a data engineer, this course will not be useful. So this course is for ML engineers well not for data engineers. Why do we get more points if we deploy the model to the cloud? Cuz um this is extra work, right? If you don't deploy, you don't get points. If you deploy, you get points. That's it. Um, Al, hi Al. I'm an engineering manager for some years in classical system building. Would you recommend this course for me? Well, Al, I need to know a little more about you to say if I can recommend this course to you. Uh, the question I have to you is if you're interested in machine learning. If the answer is yes, then I definitely can recommend this course. If the answer is no, I don't know what you're doing here. How often are live sessions and what's a typical schedule this week? So, we don't have live section live sessions. We only have pre-recorded. Well, when I say we don't, it doesn't mean we don't have them at all because right now is last live session, right? We will have another one when the course when we launch the course, but that will be the only one. Uh I don't think we I I don't plan any other live sessions. Um uh will there will be some um workshops too because I want to update some of the modules but there will be separate announcements. Uh most of the material is pre-recorded so uh you just watch those. So yeah uh I will do a live session on Kubernetes and a live session on PyTorch and these live sessions become the course materials. So next year when we um launch the sixth cohort of this course, I will simply use the materials I record now as a part of live session in the cohort. So they will be you can just treat them as pre-recorded cuz this this um what did I say I shared this workshop right on UV and fast API. So this was a live session but I will simply include the recording of the live session into course materials and say yeah these are the course materials and this will be like pre-recorded because I already recorded the live session frequency of I think I already answered this. Um can we catch up later if we miss a day? Yes. Um like all the the things are pre-recorded and you just follow these things. So you go let's say module number one you go unit number one there is a video you watch it if you have questions you ask them in slack and there will be this cohorts folder like I will create 2025 here um maybe I will do this right after this workshop but I definitely do it before we have the launch stream so this is how it looked the last year so there are some specific things for um the past cohort in particular it was the homework. So you follow the videos and at the end there is a homework you do the homework you submit the homework and that's your plan for one module then you repeat it for the next one and so on. So really simple I think and then you can work at this any time you want so you're not restricted to any particular time slot. If I'm a data engineer and I also love mathematics is MLE for me I think I like MLE because of the idea that I can do will do a lot of math. So I have to disappoint you MLE do not really work with a lot of math. Um I don't think MLE is do any math at all. Um and so if you want to do modeling I think it's more like a data scientist role rather than ML engineering role. ML engineers typically are more focused on the engineering side rather than modeling side. Of course, there are companies where um you need to do everything starting from modeling and then um deploy. But um yeah, typically there is some how to say role separation. So data scientists they're a bit more uh math inclined let's say and ML engineers they're more engineering inclined. um doesn't mean there these roles are set in stone. Um I know some ML engineers who are pretty good at modeling. So they do this. Uh the reason I the reason we have these modules here cuz I think this is still important for ML engineers to be able to create a simple model. Uh but you will not as I said you will not win a Kaggle competition with this knowledge. Right? So these are pretty basics. Um so I have to disappoint you here. here we don't really have a lot of math but also as a data scientist I didn't need to really use a lot of math to be honest how we should balance learning uh the tools versus understanding the core concepts what should come first in practice so for me uh I was an engineer I used to work as a dove developer and then I switched to machine learning the way I did this the way I structured My learning was on by doing projects. So I had a project in mind and then I learned just enough to deliver this project and then sometimes some things were interesting for me so I would dig deeper into some of the topics. But for me as an engineer the approach of focusing the project of having an end in mind really helped to stay focused and this is the approach we use here in the course. So here um let's say for this for this the third uh module uh the problem we have is term prediction right so there are some people we are working in a telecom company there are some people who canceling their contract with the company with our company so we want to detect u people who are about to cancel and prevent them from doing this so we want to send them an a promotional email saying hey uh like here's a discount don't please don't go. Um so in hope that we will retain these customers. So here's the project description and we cover just enough theory to finish the project right and you don't need more and this project based learning I think it's the best um learning because otherwise you risk of going too deep into some things and spend too much time on that. So this is how I think you should balance learning. So you kind of need both tools and understanding the core ML concepts but you need just enough to reach the goal you have in mind but then you do this you complete the project and you have another project and then you kind of continue right um for me also Kaggle helped. So on Kaggle uh the goal was to compete in the in a competition right to have a good model and then for that I needed to learn things and because um you also have a job so you cannot spend a lot of time on Kaggle so your time is restricted and you try to do okay what is the most efficient use of my time right so for me it was personally it for me personally it was super helpful to uh and there I also balanced learning the tools versus understanding the corl concept cuz I was really focusing on the competition. Uh both homeworks and projects are mandatory to receive the certificate. No. Uh so only projects are mandatory for the certificates. The homeworks are not. It's up to you if you want to spend time on them or not. Um the homeworks are graded automatically. So the homeworks they're typically multiple choice questions. So this is how they or sometimes you need to put something um but more often than not it's multiple choice questions. So you just uh do what we ask. So here this is how homeworks looks like. So you just need to install pandas and then we ask what is the version or uh you get some data and you need count records or uh do some exploratory data analysis in this particular case right and then you submit these things and because there is only one or two correct answers. This is graded automatically but we try to make this homeworks interesting enough so it's interesting for you and easier for us to grade. Right? So that's um when it comes to homeworks or uh midterm projects you need to evaluate u so you you deliver a project. So there are some criteria you need to satisfy. So these are the criteria problem description exploratory data analysis model training and so on. And then you also need to evaluate your peers and then at the end you get a report. So some Peters some of the peers they say um they give you feedback. So this is the feedback I got but the project I submitted was a fake course project. So there was nothing that's why I didn't get any points. Uh the reason I got uh nine uh is uh cuz I evaluated other peers. So that's why um like for each evalation I get three points. But this is how it's done. So the we evaluate projects by doing peer review and peer review is mandatory to complete the project. So if you submit a project but you don't do peer reviewing you fail the project and if you fail a project you fail the course. Right? So this very important to do peer reviews. Uh will the course make one job ready? Yes. If you put effort in the the the course and if you make a good project, if you also follow our recommendations to learn in public, this will definitely make you job ready. Uh what's the next path to follow after the completing the course? Uh to step into advanced stuff, find a job. That's the best way. Um cuz you can do courses forever, but I think you need to work on projects. This is where the real experience comes from. So you need to find something that is a job. Maybe at the beginning could be difficult but then find a volunteering job. I don't know there are so many places where you can volunteer. So put your skills into practice and then by doing this you will again do this project based learning that I um talked about and then it will force you to learn new things in order to solve a problem you have and then you build a portfolio of things and then it will make you even more job ready. Um yeah so I wouldn't recommend taking another course of course you can do a melops course that we have you can find a lot of courses like we have this page yeah wait no not this one 23 free online courses on machine learning so there are a lot of courses not just our course there are so many other courses but um I wouldn't recommend to spend too much time on learning things I would just say I mean on learning through courses. Courses are useful and important and for me personally courses were super helpful in my career but just don't do don't do just courses right so I would suggest to start involve being involved in different projects as soon as possible. Um you said the course videos are pre-recorded so the ones already available on the platform they will be updated. Uh if not can we begin accessing them beforehand? Yes, you can access them beforehand. Um, only two more modules will be updated. Um, so uh this one this this this will stay the same. I'm not going to update them. This one is already updated. I just need to put this in the description. But this one was the UV and fast API module uh workshop. I'll just simply include the link to the workshop here. That will be all the update. So this is going to stay the same. In this we will uh add extra material on PyTorch. So the TensorFlow part will stay the same. So what you can do is now you go go through TensorFlow part but then we will show how to do exactly the same thing with uh PyTorch. So we will not do any theory. We will just do practice with PyTorch because the theoretical part is recorded with TensorFlow and it will stay the same. This one is updated and this one is going to be updated. Uh some of the fundamentals are still valid. It's just we are not going to use TensorFlow serving. Um but yeah, you can watch the course. Uh actually I think TensorFlow serving is still good. So yeah, we'll just need to use uh newer versions. Uh but I also want to record any some extra things here. Uh some extra things here. So you but um to answer your question you can go ahead and watch the videos right now. There will be some updates but by watching the videos um so the updates will be extra materials right so you can already just watch what we have. Would you do a math for AI zoom camp or boot camp? No. Um detailed timeline. I talked about this. We talked about this. Um would you share any assignments or problems after each module? Uh yes, we have homework and we also have um like solutions. We publish the solutions. If I miss cohorts, will I not get the certificate? Do you miss if you do you mean if you miss uh a homework? If you miss a homework, you will still get a certificate. If you miss the entire cohort, you will not get the certificate, of course. uh answered. So the homeworks will be different but you can check the past homeworks. Yeah. Um any resource tutorials to sharpen my Python skills? Chad GPT is really good. So just use CHP. Does the course cover fundamental mathematics needed for machine learning? No, we don't cover these things. Just a little bit of algebra. I want to learn artificial intelligence, machine learning. Um I think I answered that question. You can see this from the syllabus what we cover and what we don't. This is not a replacement for MLOps course. Um uh answered question from Alex. So maybe this is the last question I'm going to take. How do you maximize learning with LM? You let it explain to you but take care to do things that you're learning manually. So the easiest way um you can do so let's say uh there is um this piece of code you don't understand uh let's see so let's say you're struggling with docker and then you don't understand what's happening here so then what you can do is you can copy paste these things to chip and say hey please explain midline by line what happens here and then chaptt is doing quite a good job at that So this is uh what I'm mean mostly but uh I think it has this learning mode that they published recently. Uh I haven't experimented with that but typically for me I just hey this is not detailed enough. I have an example actually from one of the workshops I gave. So let's say this coding agent. So in this um new workshop I was showing how to create a Django template even though like it wasn't about Django. So, I didn't want to spend time uh on explaining jungle stuff. And I think I just showed where is it? Think somewhere is a link build from scratch. Yeah. I don't know. chat GPT did I not post it? Okay, weird. Uh I think it was a different document. Anyways, um so what I did is I just um posted where so all these things like building the jungle app from scratch and I just edited this copied this to jungo and said hey this is the tutorial I don't understand explain it line by line and then it gave me some explanation but I say okay this explanation is not detailed enough I don't understand this step and then it explained me this step so this is how you can approach that Um yeah, so I I need to run now. I have another meeting right now. So um well I still I I managed to answer quite a few questions. So thanks a lot for uh joining me today for asking your questions. Uh this was an amazing session. Thanks a lot for all these questions. And what I can do is I still see that there are some questions. You can keep asking these questions and we will cover uh these questions on our next stream which will be um on September 15th when we launch the course. So there will be a section for Q&A where I will continue answering the questions you have. So if your question was not answered um I'll try to address this next time. So thanks a lot for joining. You have to run now. Um, so yeah, see you around and all the links are in the description if you're interested in enrolling into this course. Um, yeah, there's a sign up button. Click on that and you will receive an email and we will start on September 15th. So, bye everyone. See you soon. \""
      ]
     },
     "execution_count": 23,
     "metadata": {},
     "output_type": "execute_result"
    }
   ],
   "source": [
    "clean_transcript"
   ]
  },
  {
   "cell_type": "markdown",
   "id": "498ef770",
   "metadata": {},
   "source": [
    "### Semantic Chunker\n",
    "Split by semantic similarity"
   ]
  },
  {
   "cell_type": "code",
   "execution_count": 46,
   "id": "086a4a59",
   "metadata": {},
   "outputs": [],
   "source": [
    "from sentence_transformers import SentenceTransformer\n",
    "from langchain_core.documents import Document\n",
    "from langchain_community.embeddings import HuggingFaceEmbeddings\n",
    "from langchain_experimental.text_splitter import SemanticChunker"
   ]
  },
  {
   "cell_type": "code",
   "execution_count": 47,
   "id": "8f2c0969",
   "metadata": {},
   "outputs": [
    {
     "name": "stderr",
     "output_type": "stream",
     "text": [
      "C:\\Users\\nelso\\AppData\\Local\\Temp\\ipykernel_61012\\1019173367.py:1: LangChainDeprecationWarning: The class `HuggingFaceEmbeddings` was deprecated in LangChain 0.2.2 and will be removed in 1.0. An updated version of the class exists in the :class:`~langchain-huggingface package and should be used instead. To use it run `pip install -U :class:`~langchain-huggingface` and import as `from :class:`~langchain_huggingface import HuggingFaceEmbeddings``.\n",
      "  emb = HuggingFaceEmbeddings(model_name=\"sentence-transformers/all-MiniLM-L6-v2\")\n"
     ]
    }
   ],
   "source": [
    "emb = HuggingFaceEmbeddings(model_name=\"sentence-transformers/all-MiniLM-L6-v2\")"
   ]
  },
  {
   "cell_type": "code",
   "execution_count": 51,
   "id": "d656e023",
   "metadata": {},
   "outputs": [],
   "source": [
    "# 3️⃣  Prepare your input documents\n",
    "# clean_transcript must be a list[Document], not just raw text\n",
    "#docs = [Document(page_content=line.text) for line in tqdm(transcript)]\n",
    "docs = [Document(page_content=clean_transcript)]"
   ]
  },
  {
   "cell_type": "code",
   "execution_count": 52,
   "id": "524d9849",
   "metadata": {},
   "outputs": [
    {
     "data": {
      "text/plain": [
       "[Document(metadata={}, page_content=\"So hi everyone. Uh today we are going to talk about our upcoming course. The upcoming course is called machine learning zoom camp. And um this is already I put the link in the description. So if you're watching um this video in recording or you're watching it live, you go here in the description after under this video and then you see a link course. uh click on that link and this bring you will bring you to this website this GitHub page. This GitHub page is the main entry point to our course and um yeah I think it's more or less self-explanatory. If you want to sign up this is the button you click and the actual course starts in on September 15th. it means that it's uh slightly less than one one month before the course starts and the purpose of today's um session is to just answer your questions. So you have some questions and uh you can ask these questions using uh you can ask your questions using the pinned link. So there's a pinned link in the live chat. Click on that link um and there ask your questions. So yeah, this is how it looks like and I am just going to uh use this thing. So we can also go to SLO and use ML Zoom camp and I'm going to use that for answering questions. Uh one thing though, so before we start, I just wanted to mention that um this course has been running for uh this will be the fifth edition of this course. So we've been doing this course for quite some time. Many people already graduated from this course and um most of the content we use here is the content I uh recorded like four years ago but we are updating the content so cuz u back then everyone was using Python 3.8 eight or nine something like. So yeah, we are re-recording some of the things in particular. Module one, two, three, four will uh stay the same cuz uh this uh these are the fundamentals. They didn't change. But module five we uh will update. Module 6 will stay the same. Module 8 we will update. Module 9 update update. And this we will not include like we only include it once and this thing get outdated very fast. So we just I just didn't bother updating this at all and it's pretty advanced material. So we will update like four out of 10 modules. So that's the plan. Uh and we already had some workshops for this. Anyways um you have some questions and these questions you use slido for asking these questions and let's get started. Um Alexi question is there a chance of job placement after the program? How deep are we going into computer vision and rock? Okay, so there are three questions actually here. Uh chance of job placement. So we do not provide you job placement. So we are not recruiters. We just teach this uh and we are not a boot camp where you pay money. Right? So this is a free boot camp and our resources are limited. So we cannot really uh do this for you. That said, many of many course participants who took this course in the past successfully found the job. So this is this is going to be the fifth time we are hosting this. So yeah, many many people have graduated from this course and many people found the jobs. So yes, there is a high chance to find a job placement after the program because the teach we the skills we teach here the skills we cover here they are the most important skills for a machine learning engineer. So first we focus on the machine learning part where we cover scikitlearn um like simplest model models and then we go deeper on the deployment side. So this is the area where many data scientists um don't know or not they know but like maybe this is their weak areas. So this is we we're going a little deeper in this side. That's why it's more like an engineering program, ML engineering program. And with these skills, usually people don't have any problems finding a job. How deep are we going into computer vision and rack? Okay. So we don't go deep into computer vision. We have one module on deep learning and in this deep learning module we uh do we build an image classifier. So this is a model that can classify different types of clothes into images of of clothes into 10 different categories like pants, like shirts, like t-shirts, stuff like that. So this is as uh deep as we go to computer vision. So that's only one module about that. And we also talk about deploying neural networks. So in the serverless model we talked about how okay you have a model how to deploy it and by the way speaking of the deep learning model uh previously we used tensorflow so we are going to update this to pytorch so this year you'll have two options you can go with tensorflow you can also go with pytorch um but yeah it will be basics so we will not go deep so this is not a computer vision class this is a machine learning engineering class so we will just have one lesson And we will focus a lot on deployment not on the theory part. We do not cover rack at all. So for rack if you're interested in rack there is another course called LLM Zoom camp. It has almost finished but all the materials are available for self-studying. Um so yeah here's you can check it. So we don't cover a rock in machine learning course but there's another course where we go pretty deep into this maybe not super deep but like we cover a lot of things when it comes to AI engineering. Uh are there any prerequisites to get the most out of the boot camp? Yes, you need to be uh comfortable with programming and with command line. So some basic linear algebra will help but this is not super important. So you we um provide all the say refreshment materials here. So we talk about linear algebra and numpy and we illustrate everything with code. So even if you never took linear algeb algebra class uh the concepts we explained here they are there enough. So the main prerequisite is knowing how to program. If you don't know Python, you should be able to uh pick it quickly. And if you know any other programming language like Java, JavaScript, whatever, R, you shouldn't be it shouldn't be difficult for you to pick up Python. And then where's actually our prerequisites? Yeah, here. And then uh starting with uh starting from module number five, we will use command line a lot. And this is um where this experience with prior experience using command line will help. Of course, not everyone has this experience. So you can pick it up too. But expect that uh here when we go from module 4 to module 5. So um if um for you software engineering is something you don't do regularly then it's going to take the model number five is going to take um significantly more time than the first four and this is based on what the students said uh for them the switch from Jupyter notebook to u creating uh web services was quite difficult. So this is um right now we still have a lot of time. So if you think this is your weak site, maybe check this module now and see what are the things you're lacking you're missing. And also as a um what we did recently was a workshop going to share the link with this workshop where I revised this module number five. So maybe you can just uh check that. Let me see. Um yeah, this one. So I'm going to share it with you right now. uh here and I'll also put this in description for those who are watching this in recording workshop on UV and fast API. So this is a workshop that you can check right now to see um just to evaluate yourself if you feel comfortable with the things that are happening in this workshop. If you don't feel comfortable, you still have time to catch up on some things like using terminal um and so on. And uh I think there's a question CLI is it powershell PowerShell or Linux? So we you in the course we use bash um so it's not powershell. If you are more comfortable using powershell that works too. So the examples should be transferable to powershell but we use bash. So I use I have windows and on these windows I still have bash right. So this is how my terminal looks like. So and the examples um I have I show they are um so most of the time actually we suggest to use code spaces. This is the environment uh that you can get for free from GitHub and then you have a Linux there. You have a Linux with Docker with Python with everything you need. So it's the simplest way to actually get the environment is just get a code spaces um and then you will not need to install anything. So that that are the prerequisites being able to feeling comfortable with programming and with command line and don't forget that this course is an engineering course. This is not a data science course. So we will do a lot of coding. I have not worked with PyTorch and TensorFlow before. Will this be a problem when we start learning new neural networks? No. So for everything we show here, um we don't of course expect you to know this uh prior to the course. So we don't expect you to know any machine learning. Uh we're here to actually teach you machine learning. So you're here to learn machine learning. So that's why we start from like really basic things and then progress to more difficult ones. So you don't need to know any scikitlearn. You will learn psychit learn here. You do not need to learn uh so for example here we teach docker you don't need to have prior experience with docker here we teach uh we talk about virtual environments you don't need to have this experience working with virtual environments. So we all um we teach all these things here but of course if you already worked with Python and know what virtual environments are uh then good for you. So then for you model number five will be like the easiest and same applies with uh deep learning. So if you already used um PyTorch then for you probably the module about deep learning will be easy cuz if you use PyTorch you probably know everything already. So we um this is for people who don't know PyTorch and TensorFlow. Uh is ML zoom camp for people who want to become data scientists or ML engineers? Kind of both but targeted more for ML engineers because we have a lot of uh again let me open it a lot of topics are engineering. So deployment uh serverless kubernetes they are engineering topics. Uh typically data scientists they are exposed to these things to small extent than uh than ML engineers. uh that's why this is ML engineering an ML engineering course and then K surf uh yeah we don't really um cover it here but this is also an engineering topic so I think uh the content is still useful but it's kind of very outdated because these things change very fast and I don't have opportunity to keep it up to date every year but anyways um so we have a lot of engineering topics so I I would say this is more uh g this is more tailored to um those who want to become MEL engineers but data scientists will also um find it useful. Many data scientists said okay yeah like I already knew um like I know module number one 2 4 6 8 this was already like I already knew things but module five uh 9 and 10 were super useful. So for data scientists this information is useful and when I was a data scientist for me knowing how to deploy things were quite nice. Is there a recommended companion book for the course? Yes. Uh so actually this course is based on a book I wrote machine learning book amp. So this is the book website. Uh I think I can share it here. Yeah. And then let me put it also here. So this course is based on the book. Uh but the book was written more than 5 years ago or like it was finished around uh maybe half a year before the course or maybe a year before the course was recorded. Um so yeah the some of the some parts of the book are slightly outdated. So this is what I'm going to fix right now um with this course. In this course we are reording some of the materials. So because the book is outdated you will find the examples you have in this course uh before the update. So we still use u flask there. Instead of fast fast API for example we use tensorflow there. Instead of PyTorch, we use Python 3.7 maybe like a relatively old uh Python instead of 3.13 and so on. But um the the course is largely based on the book and all the examples we have here uh in this course they are from the book. So yeah, this is a recommended book uh for this course. Yeah. Do you need to have to learn any prerequisites like math? Not necessarily. Um, knowing linear algebra will help. Um, but as I said, all the linear algebra you need to know, I cover here in this linear algebra uh unit. Maybe you can check it right now to see how much of this is still not clear after you watch the videos. I try to illustrate everything with u numpy. So for me as a developer, seeing things in code really helps. So maybe for you too. So check it out and um like if you understand what's happening here then I think you're good uh to with math when it comes to math. So you only need um some basic linear algebra. We use this linear algebra in module number two when we implement linear regression ourselves. But then starting from module number three, we don't use any mathematics at all cuz uh we start using scikitlearn and uh scikitlearn um implements everything we need right so we don't really need to uh worry about math right and then for you if some things are difficult to understand some theory cuz here like let's say when I talk about linear regression um yeah I use some formulas but if you don't understand these formulas it's fine and you can just implement what I show and then move on. This is not crucial for getting the most out of the course. When you work as a data scientist, knowing math will be important. Knowing some linear algebra, knowing some statistics will be important. If you're going to work as a machine learning engineer, these things will be less important than for data scientists because the focus for ML engineers is more on the engineering side rather than modeling side. Right? So that's why um it's helpful to know some mathematics uh but yeah not strictly necessary and then these things you can pick up as you uh go through the course as you do projects or as you work right so uh to answer your question no stick prerequisites but some linear algebra will be helpful maybe you can check this uh unit I was talking about right now and see if you need to pick up anything but I don't expect any problems like if you're uh an engineer, if you know how to program, then for you this is enough. Do I need a efficient workstation? Like probably asked you asked, do you need a good computer to uh work on this um course? No. Um actually what you can use is um a code space I think. Oh wait, I think code spaces GitHub code spaces. If you go to here environment here I show how to um configure GitHub code spaces and actually the environment you get there for code spaces is relatively is very not powerful it just have has two CPUs and I don't know how I don't remember how many how much RAM but yeah this is not um very powerful um so then what you need to have is just a computer with Python or computer with internet if you don't if you cannot install some things or maybe you I know some students uh from Nigeria uh that we have that we had in the past they didn't even have a computer they just had a tablet they could still finish the course so they could use um this code spaces they could connect to code spaces from their tablet and then they could program everything they needed um I think they had some external um keyboard board. But anyways, like all you need is motivation to finish. Um, and internet. Yeah, internet is also important. Can we use chip or other lamps? Yeah, you can like I I would actually recommend using them every time you see a piece of code you don't understand. You just copy it to charge and ask it to explain. And that works really well cuz you can uh if you still don't understand some of the explanations, you can continue uh you can keep asking it until you understand. So this is really good. I do recommend to use chbpt for everything, not just common uh lines in Python, for all the things uh that in the course. I recommend using it because for me it helps me personally tremendously for not just courses but also for other things that I learn for other things that I explore or my interests. So I recommend that you use it too. Um uh yeah I think I answered this question about prerequisites is the zoom cup will be helpful to target these roles ML ops or AI platform engineering data infrastructure cloud and engineer infrastructure engineer oh yeah you have quite a lot of things uh I don't think this zoom camp will be helpful for any of those roles so for mlops um so what we have we also have a course called emlops zoom So let me share this link with you if you're interested. So we have this course but for me this MLOps course is just a so let's say this one is more for beginner ML engineers and MLOps course is more like intermediate ML engineers. So it's still about ML engineering. So we don't really talk about um you know classical ops uh in terms of DevOps uh but we show how to streamline uh operations right. Right. So this is what envelops is about like how to automate some things. Uh so this uh neither of these courses is good for cloud engineers or data infrastructure engineers or yeah like any infrastructure engineers or uh DevOps in general but these two courses will teach you how to become a good ML engineer. Um now I don't know what exactly you mean by MLOps because people may mean different things by this but yeah so this is for ML engineering. Uh for data engineering uh do you recommend taking this course depends on your goals. If your goal is to learn data engineering then no I do not recommend. If you're a data engineer who work with machine learners, machine learning engineers and with data scientists and you want to understand what what is happening, what they are doing, this course will be very helpful. When it comes to data engineering, we actually have a course called data engineering zoom camp that is focused specifically on data engineering. So this is what you should take instead if you are interested in data engineering. So this course will be tangentally useful just to broaden your horizons. Uh if you work with ML teams uh yes it will be helpful to understand what they are doing but for you as data engineer for your career uh unless you plan to work with ML it will not be very useful. Please explain what jobs are suitable for each course in Zoom camp. Okay, let's try now we have courses. So these are the courses. So the courses we have MLOps zoom camp, data engineer zoom camp, machine learning zoom camp, llm zoom camp. So ML uh ML zoom camp this course is for ML engineers and data scientists. Um MLOps uh zoom camp is for ML engineers again slightly more advanced course than this one. Um so there is also a role called MLOps engineer but it may mean very different things for different companies. So um yeah we teach some uh automation some things like that like make files and so on. Um but yeah so in some cases MLOps engineer is somebody who builds platform for ML engineers then this is not about building platform but it will it talks about different steps and procedures of the ML process. Uh data engineer zoom camp is of course for data engineers uh also for data scientists who want to become better at building pipelines and then LM zoom camp is for AI engineers and data scientists. Then we also have analytics and stock market zoom camp. This is not a course I teach. So this is uh this is done by Ivan who's u like who's leading the course. Um so for him uh the for his course the target audience like it's for people who want to build um who want to trade and who want to build tools for trading. Um then we also have a AI dev tools zoom camp which is not here yet because this is still work in progress. This is course for engineers who want to use AI to become uh more proficient. Okay, let me share this link too. Okay, I think I was answering this question. Now, are you going to teach something new this time or we just have to watch old videos? Um, I think I explained it. uh yes you'll have to watch old videos but there is also new material so I uh this year I am updating some of the uh things some of the modules so you will have to watch well I don't like to say have to nobody's forcing you but if you wish to learn something you can decide to watch all videos yes but uh trust me these videos are going to be very useful to you um as they have been very useful to many people before you. Uh but also yeah there will be new things too. Uh what do you recommend for taking the course for the official repo and working or uh I would recommend creating a new one and adding I think maybe I do have examples here. Yeah, I would recommend to create a separate repo and then put all your homeworks there. um put your uh for projects I would recommend for each project to create a several ripple I don't have any programming skill would it be a challenge yes it will be a challenge but there are some people who finish the course despite that it just depends on how it just depends on your motivation how much time you have how much extra you're willing to learn cuz you will need to learn a lot so it will not be easy it will be very difficult so it will be a challenge but still you can overcome this challenge. If you're motivated, if you want to get into machine learning and if you want to get into machine learning, you have to learn programming. So, it doesn't matter if you want to become a data scientist or a male engineer, you will have to learn programming. So, there's no way around that. So, better start earlier, sooner than later. So, you can start now. Uh the end of the cohort, what level of machine learning mastery will we have reached? Um depends how you measure it. So what I wanted to cover in this course is the 20% that will give you 80% of the results right but still there is much much much more out there that you need to um learn. So let's say after finishing this course you will not be able to win a Kaggle competition but after finishing this course you will be able to put an end to end machine learning project. So um I don't know get a data set um decide what kind of model you want to train train this model and then serve this model. So it will be an end to- end project that you will be able to accomplish which is enough to get hired but this is uh in no way um how to say mastery right so the path to mastery is very long and will require a lot of work so you will not be a senior ML engineer by the end of by the end you finish by the time you finish the course but uh you'll have enough knowledge to be an entry- level ML engineer um Yeah. So, you'll be able to independently create some things. Will we have any certificates to put on LinkedIn? Yes, you will. I think we even have an example. Do we? Let me check. Uh yeah, actually we have uh like if you go to the articles, we have some success stories from previous uh students. Um does he share his certificate? Yeah, this is the model he built now. So what I will do is I will just share these articles with you and you can check them out. I see that there are some questions in the chat. So, it's better to use the slider link cuz for me it's very difficult to keep track of the questions in the live chat. So, let's see here. Do we have I think we somewhere had an example of a certificate but yeah there will be a certificate. So I just wanted to show it but uh I don't think I can easily buy Oh actually I think I can so certificates. Yeah, here is an example. So this is how certificates will look like. So this is something you can upload to LinkedIn and we actually have instructions of how you can add this to LinkedIn. What does life cohort look like? Are there any deadlines? Yes. Um so the um we do this everything in a live cohort. There are deadlines. So um this is uh the platform we are going to use for learning. And let's take a look at the last year. So you see we have homework and then we have deadline for this homework right for each homework we have deadlines you have to finish the homework before the deadline and all the interactions happen in slack so in slack there are other fellow learners with who you can interact uh also the course instructors are there in slack so we help you too but mostly you interact with other learners um and yeah so every week or sometimes for some modules we have two weeks uh per model. Just a second. For some weeks we have two weeks per model. For some uh for some modules we have one week per module. Um and then everyone works at the same time at the same thing. Right? So that's the main idea. Then um last year we also had a competition a competition on Kaggle. So this year we might have something too. And then also projects are here. So everything uh we work on is here on this platform and yeah we have some deadlines after the deadline passed you will not be able to submit the homework. So usually after the deadline we score all the homeworks we publish the solutions that's why after the deadline once the solutions are published it doesn't make sense to actually keep it open right because you can see the solutions and simply copy it. So yeah, so there are deadlines to keep you to help you um um with um sticking to the schedule. Then we also have a leaderboard where I think Alexander this is the person who wrote uh this article, right? It's actually he wrote too. Cool. Um so uh yeah we have this uh leaderboard and then uh you get points by um solving homeworks correctly and by sharing your progress in public. So we encourage learning in public. Um yeah we will talk about this more on the course lounge. But we encourage everything you learn to uh to share in public. And I I think I can um also share this thing. Do I have the same thing? Oh, so just yesterday I interviewed one of the students uh pastor. So pastor um he finished first on the leaderboard I think it was two years ago. So he shares his experience and also how public learning helped him. So I think this is a really cool episode, really cool interview. I will share it with you. Uh and then um inter view with pastor. So many good things happened to pastor after he shared the the learning after he learned in public. So uh we encourage you to do this and then we have this leaderboard. Okay. So yeah, once the course starts, you will have um these lessons with deadlines. Uh these deadlines will change as we go along the course because some things happen. Um sometimes there are delays. Uh yeah, but at the beginning we give you a rough uh schedule. So then you can some do some planning. Are there zoom lectures or live sessions on YouTube and learning while learning and what time? So all the things are pre-recorded. We will have one live stream for the launch and that's it. So we used to have um we used to have office hours. Right now I don't see any point in uh doing these office hours cuz we have done these office hours in the past. All the questions that people had I answered. So you can just rewatch the old office hours videos. Uh so there will be no live sessions. Um, you just watch pre-recorded videos and then you interact with others in Slack. Uh, yeah, I think I just answered that. Is it best to use a Kaggle data set or to find one ourselves? Is it a question about the project? Um, like Kaggle is a good platform for data sets, but it's not the only source. You can find data sets in other places too. So, It doesn't matter actually. I answered that question. Would you do a data science to camp? No. Uh I mean this one is kind of data scienceish cuz uh if we look at the syllabus, we have uh one, two, three, four, five, six modules. Did I correctly? One, two, three, four, five, six. Yeah, six modules or seven uh that are about data science. I think that's enough. Yeah, I don't see a point in creating another course just for that. So, it will be like the same material. Uh will we will we deploy ML models locally or use remote environment both? Um actually for the course uh for the project of the course you will get extra point if you deploy to the cloud uh but also I know some of you cannot um for whatever reasons um do the cloud thing then you can just deploy locally you will just get fewer points but we do show how to deploy to the cloud not just locally. I am a data engineer and I want to become a male engineer. Will this course help? If yes, how much? Yes, it will. Um, I don't know how to answer the second like very much. Yeah, well, it will help you. Yeah. Um, what is the better job for the future? Data engineer, data scientist or how do you measure better like um um the way I would rephrase it, what is the better job for me in the future? Do I enjoy doing data engineering, data science or machine learning? So once you have the answer then you have the answer for this question cuz the the point is to do what you enjoy most like if let's say somebody says oh yeah data engineers are more in more demand cuz there are more vacancies but then you hate data engineering you don't like it like so does it mean you have to do it or maybe there are fewer ML engineering jobs but you just like it more so then just go with this so yeah and then who knows maybe AI will replace all of them. So yeah, I'm I'm joking. I don't think it will replace but um yeah, in terms of better like you define better and then yeah, you just select it for yourself. Is there a leaderboard? Yeah, we talked about the leaderboard. Will anyone with zero technical background uh where is Hendrick to get this? Yeah, I I think I answered that. So if you have the motivation, if you have the time and if you're willing to put the time and energy into this then you will be able to finish. Uh so there will be three projects and in order to get a certificate you will need to finish two out of three at least. So you can finish three of course but you need to finish at least two. So it will be a midterm project and uh so midterm project will happen between um let me check uh yeah so you see we have module number six and then module number eight so we kind of jump so there is no module number seven so what happens here is the midterm project and then we will also have after the Kubernetes module we will have two more projects so out of these three projects you will need to finish two uh what the prerequisites we talked about what is the weekly time commitment. So it really depends on your background but we have some numbers from the past. So you can see you can go to any homework and see homework statistics and then you can see how much time people spend on this. So on average people spend 4 hours watching lectures and 2 hours watching or doing the homework. So it probably means that the homework was too simple and this year we need to make it more complex, right? But of course uh yeah it all depends on your background. So for most people it was easy or I mean it was just 6 hours and this module lasted two weeks. I don't think it's a lot of time. Uh but then let's say take is deploying see statistics. Yeah, this one is uh wait time spent. Yeah, so people spend more time watching lectures here and more time on homework. So this one was more difficult. So you can do this uh for um projects. I still need to implement the dashboard like that. Uh the data is there. I just need to build the page. Uh maybe I just should just use cursor for that. The d is there. I just need to um visualize visualize it. So what I what I want to have is a dashboard for all the homeworks and projects on one page. And by the way, if you want to help with uh this uh this actually is a jungle project. So all of that is open source. And uh yeah, if you have some free time and you want to help with uh some of these things, uh your contributions are welcome. Uh please reach to me in Slack first. Uh if you want to do something, don't just open a PR. Um then we discuss what's the best way of implementing this then you go ahead and implement um yeah that's also possible but um if no one volunteers eventually I want to implement this one dashboard that shows the effort you need to put for all the homeworks and the projects too. So uh but speaking of the projects I think it's uh 10 to 20 10 to 20 hours of work to do the project. So let's say 10 per week would be a nice estimate uh upper uh estimate from five five to 10. Will the capstone projects be something we can use in our portfolio to show recruiters or hiring green managers? Yes. Yes, definitely. And I was talking about this video with pastor. So he finished was it three years ago? Um but he says he still uses his uh three projects. So he completed um u the midterm at two capstones and he still uses these projects uh when he talks to clients. So he works as a freelancer and then he has his portfolio and then he shows that uh to people still shows this. So yes definitely and this is the intention. So the intention we have for you when you uh build your projects for the course think of these projects not as projects that you do it for the course but the projects you do for yourself for your project portfolio and for the hiring managers. So think that it's not only uh your peer students who will evaluate these projects but also eventually it will be a hiring manager who will look at the projects. So keep this in mind when you work on the projects and then you will have very nice additions to your project portfolio. Uh do you set up an environment for deploying the models? Uh in a couple of phrases, how is deployment going to look like? Um so deployment. Okay. So first of all, the environment for training for the course is as I said it's a Linux environment. Uh the recommended environment wait I I think I might be confusing you. So you can you can work anywhere you want. Could be your laptop, could be um a machine you rent on the cloud. The recommended environment is GitHub code spaces. When you use GitHub code spaces, you get a Linux machine. It's a Debian based Linux. So things like app get work there. You have Docker there. Um so this is the environment uh we recommend to use for learning. Then at some point it's module five where we will talk about virtual uh environments and uh containerization and deployment. We will introduce tools like uh UV like docker um like in the workshop we used fly io for deploying or in the model we used elastic bins. There are also many many other ways to deploy your models. Then it's up to you to decide how where you want to deploy. But the main part here is containerization uh which we do with docker and uh yeah so that's the main kind of environment I guess uh but yeah so then um also we talk a lot about um we have a module on serverless where we show how to do how to do deployment with AWS Lambda and we talk about Kubernetes where we show how to do deployment with Kubernetes. So once you have once you package things in your Docker container, you can deploy it virtually everywhere anywhere you want, right? Fly IO, uh AWS services, Kubernetes, whatever. Okay. Will we learn how to handle ML model monitoring and model retraining workflows like in production systems? No. This is something you we cover in MLOps zoom camp not in this one. Uh will taking the course be useful for aspiring data engineers? I think I answered this questions. Um so if your goal is to become a data engineer, this course will not be useful. So this course is for ML engineers well not for data engineers. Why do we get more points if we deploy the model to the cloud? Cuz um this is extra work, right? If you don't deploy, you don't get points. If you deploy, you get points. That's it. Um, Al, hi Al. I'm an engineering manager for some years in classical system building. Would you recommend this course for me? Well, Al, I need to know a little more about you to say if I can recommend this course to you. Uh, the question I have to you is if you're interested in machine learning. If the answer is yes, then I definitely can recommend this course. If the answer is no, I don't know what you're doing here. How often are live sessions and what's a typical schedule this week? So, we don't have live section live sessions. We only have pre-recorded. Well, when I say we don't, it doesn't mean we don't have them at all because right now is last live session, right? We will have another one when the course when we launch the course, but that will be the only one. Uh I don't think we I I don't plan any other live sessions. Um uh will there will be some um workshops too because I want to update some of the modules but there will be separate announcements. Uh most of the material is pre-recorded so uh you just watch those. So yeah uh I will do a live session on Kubernetes and a live session on PyTorch and these live sessions become the course materials. So next year when we um launch the sixth cohort of this course, I will simply use the materials I record now as a part of live session in the cohort. So they will be you can just treat them as pre-recorded cuz this this um what did I say I shared this workshop right on UV and fast API. So this was a live session but I will simply include the recording of the live session into course materials and say yeah these are the course materials and this will be like pre-recorded because I already recorded the live session frequency of I think I already answered this. Um can we catch up later if we miss a day? Yes. Um like all the the things are pre-recorded and you just follow these things. So you go let's say module number one you go unit number one there is a video you watch it if you have questions you ask them in slack and there will be this cohorts folder like I will create 2025 here um maybe I will do this right after this workshop but I definitely do it before we have the launch stream so this is how it looked the last year so there are some specific things for um the past cohort in particular it was the homework. So you follow the videos and at the end there is a homework you do the homework you submit the homework and that's your plan for one module then you repeat it for the next one and so on. So really simple I think and then you can work at this any time you want so you're not restricted to any particular time slot. If I'm a data engineer and I also love mathematics is MLE for me I think I like MLE because of the idea that I can do will do a lot of math. So I have to disappoint you MLE do not really work with a lot of math. Um I don't think MLE is do any math at all. Um and so if you want to do modeling I think it's more like a data scientist role rather than ML engineering role. ML engineers typically are more focused on the engineering side rather than modeling side. Of course, there are companies where um you need to do everything starting from modeling and then um deploy. But um yeah, typically there is some how to say role separation. So data scientists they're a bit more uh math inclined let's say and ML engineers they're more engineering inclined. um doesn't mean there these roles are set in stone. Um I know some ML engineers who are pretty good at modeling. So they do this. Uh the reason I the reason we have these modules here cuz I think this is still important for ML engineers to be able to create a simple model. Uh but you will not as I said you will not win a Kaggle competition with this knowledge. Right? So these are pretty basics. Um so I have to disappoint you here. here we don't really have a lot of math but also as a data scientist I didn't need to really use a lot of math to be honest how we should balance learning uh the tools versus understanding the core concepts what should come first in practice so for me uh I was an engineer I used to work as a dove developer and then I switched to machine learning the way I did this the way I structured My learning was on by doing projects. So I had a project in mind and then I learned just enough to deliver this project and then sometimes some things were interesting for me so I would dig deeper into some of the topics. But for me as an engineer the approach of focusing the project of having an end in mind really helped to stay focused and this is the approach we use here in the course. So here um let's say for this for this the third uh module uh the problem we have is term prediction right so there are some people we are working in a telecom company there are some people who canceling their contract with the company with our company so we want to detect u people who are about to cancel and prevent them from doing this so we want to send them an a promotional email saying hey uh like here's a discount don't please don't go. Um so in hope that we will retain these customers. So here's the project description and we cover just enough theory to finish the project right and you don't need more and this project based learning I think it's the best um learning because otherwise you risk of going too deep into some things and spend too much time on that. So this is how I think you should balance learning. So you kind of need both tools and understanding the core ML concepts but you need just enough to reach the goal you have in mind but then you do this you complete the project and you have another project and then you kind of continue right um for me also Kaggle helped. So on Kaggle uh the goal was to compete in the in a competition right to have a good model and then for that I needed to learn things and because um you also have a job so you cannot spend a lot of time on Kaggle so your time is restricted and you try to do okay what is the most efficient use of my time right so for me it was personally it for me personally it was super helpful to uh and there I also balanced learning the tools versus understanding the corl concept cuz I was really focusing on the competition. Uh both homeworks and projects are mandatory to receive the certificate. No. Uh so only projects are mandatory for the certificates. The homeworks are not. It's up to you if you want to spend time on them or not. Um the homeworks are graded automatically. So the homeworks they're typically multiple choice questions. So this is how they or sometimes you need to put something um but more often than not it's multiple choice questions. So you just uh do what we ask. So here this is how homeworks looks like. So you just need to install pandas and then we ask what is the version or uh you get some data and you need count records or uh do some exploratory data analysis in this particular case right and then you submit these things and because there is only one or two correct answers. This is graded automatically but we try to make this homeworks interesting enough so it's interesting for you and easier for us to grade. Right? So that's um when it comes to homeworks or uh midterm projects you need to evaluate u so you you deliver a project. So there are some criteria you need to satisfy. So these are the criteria problem description exploratory data analysis model training and so on. And then you also need to evaluate your peers and then at the end you get a report. So some Peters some of the peers they say um they give you feedback. So this is the feedback I got but the project I submitted was a fake course project. So there was nothing that's why I didn't get any points. Uh the reason I got uh nine uh is uh cuz I evaluated other peers. So that's why um like for each evalation I get three points. But this is how it's done. So the we evaluate projects by doing peer review and peer review is mandatory to complete the project. So if you submit a project but you don't do peer reviewing you fail the project and if you fail a project you fail the course. Right? So this very important to do peer reviews. Uh will the course make one job ready? Yes. If you put effort in the the the course and if you make a good project, if you also follow our recommendations to learn in public, this will definitely make you job ready. Uh what's the next path to follow after the completing the course? Uh to step into advanced stuff, find a job. That's the best way. Um cuz you can do courses forever, but I think you need to work on projects. This is where the real experience comes from. So you need to find something that is a job. Maybe at the beginning could be difficult but then find a volunteering job. I don't know there are so many places where you can volunteer. So put your skills into practice and then by doing this you will again do this project based learning that I um talked about and then it will force you to learn new things in order to solve a problem you have and then you build a portfolio of things and then it will make you even more job ready. Um yeah so I wouldn't recommend taking another course of course you can do a melops course that we have you can find a lot of courses like we have this page yeah wait no not this one 23 free online courses on machine learning so there are a lot of courses not just our course there are so many other courses but um I wouldn't recommend to spend too much time on learning things I would just say I mean on learning through courses. Courses are useful and important and for me personally courses were super helpful in my career but just don't do don't do just courses right so I would suggest to start involve being involved in different projects as soon as possible. Um you said the course videos are pre-recorded so the ones already available on the platform they will be updated. Uh if not can we begin accessing them beforehand? Yes, you can access them beforehand. Um, only two more modules will be updated. Um, so uh this one this this this will stay the same. I'm not going to update them. This one is already updated. I just need to put this in the description. But this one was the UV and fast API module uh workshop. I'll just simply include the link to the workshop here. That will be all the update. So this is going to stay the same. In this we will uh add extra material on PyTorch. So the TensorFlow part will stay the same. So what you can do is now you go go through TensorFlow part but then we will show how to do exactly the same thing with uh PyTorch. So we will not do any theory. We will just do practice with PyTorch because the theoretical part is recorded with TensorFlow and it will stay the same. This one is updated and this one is going to be updated. Uh some of the fundamentals are still valid. It's just we are not going to use TensorFlow serving. Um but yeah, you can watch the course. Uh actually I think TensorFlow serving is still good. So yeah, we'll just need to use uh newer versions. Uh but I also want to record any some extra things here. Uh some extra things here. So you but um to answer your question you can go ahead and watch the videos right now. There will be some updates but by watching the videos um so the updates will be extra materials right so you can already just watch what we have. Would you do a math for AI zoom camp or boot camp? No. Um detailed timeline. I talked about this. We talked about this. Um would you share any assignments or problems after each module? Uh yes, we have homework and we also have um like solutions. We publish the solutions. If I miss cohorts, will I not get the certificate? Do you miss if you do you mean if you miss uh a homework? If you miss a homework, you will still get a certificate. If you miss the entire cohort, you will not get the certificate, of course. uh answered. So the homeworks will be different but you can check the past homeworks. Yeah. Um any resource tutorials to sharpen my Python skills? Chad GPT is really good. So just use CHP. Does the course cover fundamental mathematics needed for machine learning? No, we don't cover these things. Just a little bit of algebra. I want to learn artificial intelligence, machine learning. Um I think I answered that question. You can see this from the syllabus what we cover and what we don't. This is not a replacement for MLOps course. Um uh answered question from Alex. So maybe this is the last question I'm going to take. How do you maximize learning with LM? You let it explain to you but take care to do things that you're learning manually. So the easiest way um you can do so let's say uh there is um this piece of code you don't understand uh let's see so let's say you're struggling with docker and then you don't understand what's happening here so then what you can do is you can copy paste these things to chip and say hey please explain midline by line what happens here and then chaptt is doing quite a good job at that So this is uh what I'm mean mostly but uh I think it has this learning mode that they published recently. Uh I haven't experimented with that but typically for me I just hey this is not detailed enough. I have an example actually from one of the workshops I gave. So let's say this coding agent. So in this um new workshop I was showing how to create a Django template even though like it wasn't about Django. So, I didn't want to spend time uh on explaining jungle stuff. And I think I just showed where is it? Think somewhere is a link build from scratch. Yeah. I don't know. chat GPT did I not post it? Okay, weird. Uh I think it was a different document. Anyways, um so what I did is I just um posted where so all these things like building the jungle app from scratch and I just edited this copied this to jungo and said hey this is the tutorial I don't understand explain it line by line and then it gave me some explanation but I say okay this explanation is not detailed enough I don't understand this step and then it explained me this step so this is how you can approach that Um yeah, so I I need to run now. I have another meeting right now. So um well I still I I managed to answer quite a few questions. So thanks a lot for uh joining me today for asking your questions. Uh this was an amazing session. Thanks a lot for all these questions. And what I can do is I still see that there are some questions. You can keep asking these questions and we will cover uh these questions on our next stream which will be um on September 15th when we launch the course. So there will be a section for Q&A where I will continue answering the questions you have. So if your question was not answered um I'll try to address this next time. So thanks a lot for joining. You have to run now. Um, so yeah, see you around and all the links are in the description if you're interested in enrolling into this course. Um, yeah, there's a sign up button. Click on that and you will receive an email and we will start on September 15th. So, bye everyone. See you soon. \")]"
      ]
     },
     "execution_count": 52,
     "metadata": {},
     "output_type": "execute_result"
    }
   ],
   "source": [
    "docs"
   ]
  },
  {
   "cell_type": "code",
   "execution_count": 53,
   "id": "05610dfb",
   "metadata": {},
   "outputs": [],
   "source": [
    "\n",
    "model =SentenceTransformer(\"/models/all-MiniLM-L6-v2\")"
   ]
  },
  {
   "cell_type": "code",
   "execution_count": 54,
   "id": "ccb1fb46",
   "metadata": {},
   "outputs": [
    {
     "data": {
      "text/plain": [
       "SentenceTransformer(\n",
       "  (0): Transformer({'max_seq_length': 256, 'do_lower_case': False, 'architecture': 'BertModel'})\n",
       "  (1): Pooling({'word_embedding_dimension': 384, 'pooling_mode_cls_token': False, 'pooling_mode_mean_tokens': True, 'pooling_mode_max_tokens': False, 'pooling_mode_mean_sqrt_len_tokens': False, 'pooling_mode_weightedmean_tokens': False, 'pooling_mode_lasttoken': False, 'include_prompt': True})\n",
       "  (2): Normalize()\n",
       ")"
      ]
     },
     "execution_count": 54,
     "metadata": {},
     "output_type": "execute_result"
    }
   ],
   "source": [
    "model"
   ]
  },
  {
   "cell_type": "code",
   "execution_count": 55,
   "id": "3ae66880",
   "metadata": {},
   "outputs": [],
   "source": [
    "splitter = SemanticChunker(emb, breakpoint_threshold_type=\"percentile\", breakpoint_threshold_amount=95)\n",
    "docs_chunk = splitter.split_documents(docs)"
   ]
  },
  {
   "cell_type": "code",
   "execution_count": 58,
   "id": "f6da274d",
   "metadata": {},
   "outputs": [
    {
     "data": {
      "text/plain": [
       "31"
      ]
     },
     "execution_count": 58,
     "metadata": {},
     "output_type": "execute_result"
    }
   ],
   "source": [
    "len(docs_chunk)"
   ]
  },
  {
   "cell_type": "code",
   "execution_count": 59,
   "id": "bbf9a3a6",
   "metadata": {},
   "outputs": [
    {
     "data": {
      "text/plain": [
       "[Document(metadata={}, page_content=\"So hi everyone. Uh today we are going to talk about our upcoming course. The upcoming course is called machine learning zoom camp. And um this is already I put the link in the description. So if you're watching um this video in recording or you're watching it live, you go here in the description after under this video and then you see a link course. uh click on that link and this bring you will bring you to this website this GitHub page. This GitHub page is the main entry point to our course and um yeah I think it's more or less self-explanatory. If you want to sign up this is the button you click and the actual course starts in on September 15th. it means that it's uh slightly less than one one month before the course starts and the purpose of today's um session is to just answer your questions. So you have some questions and uh you can ask these questions using uh you can ask your questions using the pinned link. So there's a pinned link in the live chat. Click on that link um and there ask your questions. So yeah, this is how it looks like and I am just going to uh use this thing. So we can also go to SLO and use ML Zoom camp and I'm going to use that for answering questions. Uh one thing though, so before we start, I just wanted to mention that um this course has been running for uh this will be the fifth edition of this course. So we've been doing this course for quite some time. Many people already graduated from this course and um most of the content we use here is the content I uh recorded like four years ago but we are updating the content so cuz u back then everyone was using Python 3.8 eight or nine something like. So yeah, we are re-recording some of the things in particular. Module one, two, three, four will uh stay the same cuz uh this uh these are the fundamentals. They didn't change. But module five we uh will update. Module 6 will stay the same. Module 8 we will update. Module 9 update update. And this we will not include like we only include it once and this thing get outdated very fast. So we just I just didn't bother updating this at all and it's pretty advanced material. So we will update like four out of 10 modules. So that's the plan. Uh and we already had some workshops for this. Anyways um you have some questions and these questions you use slido for asking these questions and let's get started. Um Alexi question is there a chance of job placement after the program? How deep are we going into computer vision and rock? Okay, so there are three questions actually here. Uh chance of job placement. So we do not provide you job placement. So we are not recruiters. We just teach this uh and we are not a boot camp where you pay money. Right? So this is a free boot camp and our resources are limited. So we cannot really uh do this for you. That said, many of many course participants who took this course in the past successfully found the job. So this is this is going to be the fifth time we are hosting this. So yeah, many many people have graduated from this course and many people found the jobs. So yes, there is a high chance to find a job placement after the program because the teach we the skills we teach here the skills we cover here they are the most important skills for a machine learning engineer. So first we focus on the machine learning part where we cover scikitlearn um like simplest model models and then we go deeper on the deployment side. So this is the area where many data scientists um don't know or not they know but like maybe this is their weak areas. So this is we we're going a little deeper in this side. That's why it's more like an engineering program, ML engineering program. And with these skills, usually people don't have any problems finding a job. How deep are we going into computer vision and rack? Okay. So we don't go deep into computer vision. We have one module on deep learning and in this deep learning module we uh do we build an image classifier. So this is a model that can classify different types of clothes into images of of clothes into 10 different categories like pants, like shirts, like t-shirts, stuff like that. So this is as uh deep as we go to computer vision. So that's only one module about that. And we also talk about deploying neural networks. So in the serverless model we talked about how okay you have a model how to deploy it and by the way speaking of the deep learning model uh previously we used tensorflow so we are going to update this to pytorch so this year you'll have two options you can go with tensorflow you can also go with pytorch um but yeah it will be basics so we will not go deep so this is not a computer vision class this is a machine learning engineering class so we will just have one lesson And we will focus a lot on deployment not on the theory part. We do not cover rack at all. So for rack if you're interested in rack there is another course called LLM Zoom camp. It has almost finished but all the materials are available for self-studying. Um so yeah here's you can check it. So we don't cover a rock in machine learning course but there's another course where we go pretty deep into this maybe not super deep but like we cover a lot of things when it comes to AI engineering. Uh are there any prerequisites to get the most out of the boot camp? Yes, you need to be uh comfortable with programming and with command line. So some basic linear algebra will help but this is not super important. So you we um provide all the say refreshment materials here. So we talk about linear algebra and numpy and we illustrate everything with code. So even if you never took linear algeb algebra class uh the concepts we explained here they are there enough. So the main prerequisite is knowing how to program. If you don't know Python, you should be able to uh pick it quickly. And if you know any other programming language like Java, JavaScript, whatever, R, you shouldn't be it shouldn't be difficult for you to pick up Python. And then where's actually our prerequisites? Yeah, here. And then uh starting with uh starting from module number five, we will use command line a lot. And this is um where this experience with prior experience using command line will help. Of course, not everyone has this experience.\"),\n",
       " Document(metadata={}, page_content=\"So you can pick it up too. But expect that uh here when we go from module 4 to module 5. So um if um for you software engineering is something you don't do regularly then it's going to take the model number five is going to take um significantly more time than the first four and this is based on what the students said uh for them the switch from Jupyter notebook to u creating uh web services was quite difficult. So this is um right now we still have a lot of time. So if you think this is your weak site, maybe check this module now and see what are the things you're lacking you're missing. And also as a um what we did recently was a workshop going to share the link with this workshop where I revised this module number five. So maybe you can just uh check that.\"),\n",
       " Document(metadata={}, page_content='Let me see. Um yeah, this one.')]"
      ]
     },
     "execution_count": 59,
     "metadata": {},
     "output_type": "execute_result"
    }
   ],
   "source": [
    "docs_chunk[:3]"
   ]
  },
  {
   "cell_type": "markdown",
   "id": "d0abd14b",
   "metadata": {},
   "source": [
    "### Recursive Chunker"
   ]
  },
  {
   "cell_type": "code",
   "execution_count": 60,
   "id": "9dea1bd3",
   "metadata": {},
   "outputs": [
    {
     "data": {
      "text/plain": [
       "\"So hi everyone. Uh today we are going to talk about our upcoming course. The upcoming course is called machine learning zoom camp. And um this is already I put the link in the description. So if you're watching um this video in recording or you're watching it live, you go here in the description after under this video and then you see a link course. uh click on that link and this bring you will bring you to this website this GitHub page. This GitHub page is the main entry point to our course and um yeah I think it's more or less self-explanatory. If you want to sign up this is the button you click and the actual course starts in on September 15th. it means that it's uh slightly less than one one month before the course starts and the purpose of today's um session is to just answer your questions. So you have some questions and uh you can ask these questions using uh you can ask your questions using the pinned link. So there's a pinned link in the live chat. Click on that link um and there ask your questions. So yeah, this is how it looks like and I am just going to uh use this thing. So we can also go to SLO and use ML Zoom camp and I'm going to use that for answering questions. Uh one thing though, so before we start, I just wanted to mention that um this course has been running for uh this will be the fifth edition of this course. So we've been doing this course for quite some time. Many people already graduated from this course and um most of the content we use here is the content I uh recorded like four years ago but we are updating the content so cuz u back then everyone was using Python 3.8 eight or nine something like. So yeah, we are re-recording some of the things in particular. Module one, two, three, four will uh stay the same cuz uh this uh these are the fundamentals. They didn't change. But module five we uh will update. Module 6 will stay the same. Module 8 we will update. Module 9 update update. And this we will not include like we only include it once and this thing get outdated very fast. So we just I just didn't bother updating this at all and it's pretty advanced material. So we will update like four out of 10 modules. So that's the plan. Uh and we already had some workshops for this. Anyways um you have some questions and these questions you use slido for asking these questions and let's get started. Um Alexi question is there a chance of job placement after the program? How deep are we going into computer vision and rock? Okay, so there are three questions actually here. Uh chance of job placement. So we do not provide you job placement. So we are not recruiters. We just teach this uh and we are not a boot camp where you pay money. Right? So this is a free boot camp and our resources are limited. So we cannot really uh do this for you. That said, many of many course participants who took this course in the past successfully found the job. So this is this is going to be the fifth time we are hosting this. So yeah, many many people have graduated from this course and many people found the jobs. So yes, there is a high chance to find a job placement after the program because the teach we the skills we teach here the skills we cover here they are the most important skills for a machine learning engineer. So first we focus on the machine learning part where we cover scikitlearn um like simplest model models and then we go deeper on the deployment side. So this is the area where many data scientists um don't know or not they know but like maybe this is their weak areas. So this is we we're going a little deeper in this side. That's why it's more like an engineering program, ML engineering program. And with these skills, usually people don't have any problems finding a job. How deep are we going into computer vision and rack? Okay. So we don't go deep into computer vision. We have one module on deep learning and in this deep learning module we uh do we build an image classifier. So this is a model that can classify different types of clothes into images of of clothes into 10 different categories like pants, like shirts, like t-shirts, stuff like that. So this is as uh deep as we go to computer vision. So that's only one module about that. And we also talk about deploying neural networks. So in the serverless model we talked about how okay you have a model how to deploy it and by the way speaking of the deep learning model uh previously we used tensorflow so we are going to update this to pytorch so this year you'll have two options you can go with tensorflow you can also go with pytorch um but yeah it will be basics so we will not go deep so this is not a computer vision class this is a machine learning engineering class so we will just have one lesson And we will focus a lot on deployment not on the theory part. We do not cover rack at all. So for rack if you're interested in rack there is another course called LLM Zoom camp. It has almost finished but all the materials are available for self-studying. Um so yeah here's you can check it. So we don't cover a rock in machine learning course but there's another course where we go pretty deep into this maybe not super deep but like we cover a lot of things when it comes to AI engineering. Uh are there any prerequisites to get the most out of the boot camp? Yes, you need to be uh comfortable with programming and with command line. So some basic linear algebra will help but this is not super important. So you we um provide all the say refreshment materials here. So we talk about linear algebra and numpy and we illustrate everything with code. So even if you never took linear algeb algebra class uh the concepts we explained here they are there enough. So the main prerequisite is knowing how to program. If you don't know Python, you should be able to uh pick it quickly. And if you know any other programming language like Java, JavaScript, whatever, R, you shouldn't be it shouldn't be difficult for you to pick up Python. And then where's actually our prerequisites? Yeah, here. And then uh starting with uh starting from module number five, we will use command line a lot. And this is um where this experience with prior experience using command line will help. Of course, not everyone has this experience. So you can pick it up too. But expect that uh here when we go from module 4 to module 5. So um if um for you software engineering is something you don't do regularly then it's going to take the model number five is going to take um significantly more time than the first four and this is based on what the students said uh for them the switch from Jupyter notebook to u creating uh web services was quite difficult. So this is um right now we still have a lot of time. So if you think this is your weak site, maybe check this module now and see what are the things you're lacking you're missing. And also as a um what we did recently was a workshop going to share the link with this workshop where I revised this module number five. So maybe you can just uh check that. Let me see. Um yeah, this one. So I'm going to share it with you right now. uh here and I'll also put this in description for those who are watching this in recording workshop on UV and fast API. So this is a workshop that you can check right now to see um just to evaluate yourself if you feel comfortable with the things that are happening in this workshop. If you don't feel comfortable, you still have time to catch up on some things like using terminal um and so on. And uh I think there's a question CLI is it powershell PowerShell or Linux? So we you in the course we use bash um so it's not powershell. If you are more comfortable using powershell that works too. So the examples should be transferable to powershell but we use bash. So I use I have windows and on these windows I still have bash right. So this is how my terminal looks like. So and the examples um I have I show they are um so most of the time actually we suggest to use code spaces. This is the environment uh that you can get for free from GitHub and then you have a Linux there. You have a Linux with Docker with Python with everything you need. So it's the simplest way to actually get the environment is just get a code spaces um and then you will not need to install anything. So that that are the prerequisites being able to feeling comfortable with programming and with command line and don't forget that this course is an engineering course. This is not a data science course. So we will do a lot of coding. I have not worked with PyTorch and TensorFlow before. Will this be a problem when we start learning new neural networks? No. So for everything we show here, um we don't of course expect you to know this uh prior to the course. So we don't expect you to know any machine learning. Uh we're here to actually teach you machine learning. So you're here to learn machine learning. So that's why we start from like really basic things and then progress to more difficult ones. So you don't need to know any scikitlearn. You will learn psychit learn here. You do not need to learn uh so for example here we teach docker you don't need to have prior experience with docker here we teach uh we talk about virtual environments you don't need to have this experience working with virtual environments. So we all um we teach all these things here but of course if you already worked with Python and know what virtual environments are uh then good for you. So then for you model number five will be like the easiest and same applies with uh deep learning. So if you already used um PyTorch then for you probably the module about deep learning will be easy cuz if you use PyTorch you probably know everything already. So we um this is for people who don't know PyTorch and TensorFlow. Uh is ML zoom camp for people who want to become data scientists or ML engineers? Kind of both but targeted more for ML engineers because we have a lot of uh again let me open it a lot of topics are engineering. So deployment uh serverless kubernetes they are engineering topics. Uh typically data scientists they are exposed to these things to small extent than uh than ML engineers. uh that's why this is ML engineering an ML engineering course and then K surf uh yeah we don't really um cover it here but this is also an engineering topic so I think uh the content is still useful but it's kind of very outdated because these things change very fast and I don't have opportunity to keep it up to date every year but anyways um so we have a lot of engineering topics so I I would say this is more uh g this is more tailored to um those who want to become MEL engineers but data scientists will also um find it useful. Many data scientists said okay yeah like I already knew um like I know module number one 2 4 6 8 this was already like I already knew things but module five uh 9 and 10 were super useful. So for data scientists this information is useful and when I was a data scientist for me knowing how to deploy things were quite nice. Is there a recommended companion book for the course? Yes. Uh so actually this course is based on a book I wrote machine learning book amp. So this is the book website. Uh I think I can share it here. Yeah. And then let me put it also here. So this course is based on the book. Uh but the book was written more than 5 years ago or like it was finished around uh maybe half a year before the course or maybe a year before the course was recorded. Um so yeah the some of the some parts of the book are slightly outdated. So this is what I'm going to fix right now um with this course. In this course we are reording some of the materials. So because the book is outdated you will find the examples you have in this course uh before the update. So we still use u flask there. Instead of fast fast API for example we use tensorflow there. Instead of PyTorch, we use Python 3.7 maybe like a relatively old uh Python instead of 3.13 and so on. But um the the course is largely based on the book and all the examples we have here uh in this course they are from the book. So yeah, this is a recommended book uh for this course. Yeah. Do you need to have to learn any prerequisites like math? Not necessarily. Um, knowing linear algebra will help. Um, but as I said, all the linear algebra you need to know, I cover here in this linear algebra uh unit. Maybe you can check it right now to see how much of this is still not clear after you watch the videos. I try to illustrate everything with u numpy. So for me as a developer, seeing things in code really helps. So maybe for you too. So check it out and um like if you understand what's happening here then I think you're good uh to with math when it comes to math. So you only need um some basic linear algebra. We use this linear algebra in module number two when we implement linear regression ourselves. But then starting from module number three, we don't use any mathematics at all cuz uh we start using scikitlearn and uh scikitlearn um implements everything we need right so we don't really need to uh worry about math right and then for you if some things are difficult to understand some theory cuz here like let's say when I talk about linear regression um yeah I use some formulas but if you don't understand these formulas it's fine and you can just implement what I show and then move on. This is not crucial for getting the most out of the course. When you work as a data scientist, knowing math will be important. Knowing some linear algebra, knowing some statistics will be important. If you're going to work as a machine learning engineer, these things will be less important than for data scientists because the focus for ML engineers is more on the engineering side rather than modeling side. Right? So that's why um it's helpful to know some mathematics uh but yeah not strictly necessary and then these things you can pick up as you uh go through the course as you do projects or as you work right so uh to answer your question no stick prerequisites but some linear algebra will be helpful maybe you can check this uh unit I was talking about right now and see if you need to pick up anything but I don't expect any problems like if you're uh an engineer, if you know how to program, then for you this is enough. Do I need a efficient workstation? Like probably asked you asked, do you need a good computer to uh work on this um course? No. Um actually what you can use is um a code space I think. Oh wait, I think code spaces GitHub code spaces. If you go to here environment here I show how to um configure GitHub code spaces and actually the environment you get there for code spaces is relatively is very not powerful it just have has two CPUs and I don't know how I don't remember how many how much RAM but yeah this is not um very powerful um so then what you need to have is just a computer with Python or computer with internet if you don't if you cannot install some things or maybe you I know some students uh from Nigeria uh that we have that we had in the past they didn't even have a computer they just had a tablet they could still finish the course so they could use um this code spaces they could connect to code spaces from their tablet and then they could program everything they needed um I think they had some external um keyboard board. But anyways, like all you need is motivation to finish. Um, and internet. Yeah, internet is also important. Can we use chip or other lamps? Yeah, you can like I I would actually recommend using them every time you see a piece of code you don't understand. You just copy it to charge and ask it to explain. And that works really well cuz you can uh if you still don't understand some of the explanations, you can continue uh you can keep asking it until you understand. So this is really good. I do recommend to use chbpt for everything, not just common uh lines in Python, for all the things uh that in the course. I recommend using it because for me it helps me personally tremendously for not just courses but also for other things that I learn for other things that I explore or my interests. So I recommend that you use it too. Um uh yeah I think I answered this question about prerequisites is the zoom cup will be helpful to target these roles ML ops or AI platform engineering data infrastructure cloud and engineer infrastructure engineer oh yeah you have quite a lot of things uh I don't think this zoom camp will be helpful for any of those roles so for mlops um so what we have we also have a course called emlops zoom So let me share this link with you if you're interested. So we have this course but for me this MLOps course is just a so let's say this one is more for beginner ML engineers and MLOps course is more like intermediate ML engineers. So it's still about ML engineering. So we don't really talk about um you know classical ops uh in terms of DevOps uh but we show how to streamline uh operations right. Right. So this is what envelops is about like how to automate some things. Uh so this uh neither of these courses is good for cloud engineers or data infrastructure engineers or yeah like any infrastructure engineers or uh DevOps in general but these two courses will teach you how to become a good ML engineer. Um now I don't know what exactly you mean by MLOps because people may mean different things by this but yeah so this is for ML engineering. Uh for data engineering uh do you recommend taking this course depends on your goals. If your goal is to learn data engineering then no I do not recommend. If you're a data engineer who work with machine learners, machine learning engineers and with data scientists and you want to understand what what is happening, what they are doing, this course will be very helpful. When it comes to data engineering, we actually have a course called data engineering zoom camp that is focused specifically on data engineering. So this is what you should take instead if you are interested in data engineering. So this course will be tangentally useful just to broaden your horizons. Uh if you work with ML teams uh yes it will be helpful to understand what they are doing but for you as data engineer for your career uh unless you plan to work with ML it will not be very useful. Please explain what jobs are suitable for each course in Zoom camp. Okay, let's try now we have courses. So these are the courses. So the courses we have MLOps zoom camp, data engineer zoom camp, machine learning zoom camp, llm zoom camp. So ML uh ML zoom camp this course is for ML engineers and data scientists. Um MLOps uh zoom camp is for ML engineers again slightly more advanced course than this one. Um so there is also a role called MLOps engineer but it may mean very different things for different companies. So um yeah we teach some uh automation some things like that like make files and so on. Um but yeah so in some cases MLOps engineer is somebody who builds platform for ML engineers then this is not about building platform but it will it talks about different steps and procedures of the ML process. Uh data engineer zoom camp is of course for data engineers uh also for data scientists who want to become better at building pipelines and then LM zoom camp is for AI engineers and data scientists. Then we also have analytics and stock market zoom camp. This is not a course I teach. So this is uh this is done by Ivan who's u like who's leading the course. Um so for him uh the for his course the target audience like it's for people who want to build um who want to trade and who want to build tools for trading. Um then we also have a AI dev tools zoom camp which is not here yet because this is still work in progress. This is course for engineers who want to use AI to become uh more proficient. Okay, let me share this link too. Okay, I think I was answering this question. Now, are you going to teach something new this time or we just have to watch old videos? Um, I think I explained it. uh yes you'll have to watch old videos but there is also new material so I uh this year I am updating some of the uh things some of the modules so you will have to watch well I don't like to say have to nobody's forcing you but if you wish to learn something you can decide to watch all videos yes but uh trust me these videos are going to be very useful to you um as they have been very useful to many people before you. Uh but also yeah there will be new things too. Uh what do you recommend for taking the course for the official repo and working or uh I would recommend creating a new one and adding I think maybe I do have examples here. Yeah, I would recommend to create a separate repo and then put all your homeworks there. um put your uh for projects I would recommend for each project to create a several ripple I don't have any programming skill would it be a challenge yes it will be a challenge but there are some people who finish the course despite that it just depends on how it just depends on your motivation how much time you have how much extra you're willing to learn cuz you will need to learn a lot so it will not be easy it will be very difficult so it will be a challenge but still you can overcome this challenge. If you're motivated, if you want to get into machine learning and if you want to get into machine learning, you have to learn programming. So, it doesn't matter if you want to become a data scientist or a male engineer, you will have to learn programming. So, there's no way around that. So, better start earlier, sooner than later. So, you can start now. Uh the end of the cohort, what level of machine learning mastery will we have reached? Um depends how you measure it. So what I wanted to cover in this course is the 20% that will give you 80% of the results right but still there is much much much more out there that you need to um learn. So let's say after finishing this course you will not be able to win a Kaggle competition but after finishing this course you will be able to put an end to end machine learning project. So um I don't know get a data set um decide what kind of model you want to train train this model and then serve this model. So it will be an end to- end project that you will be able to accomplish which is enough to get hired but this is uh in no way um how to say mastery right so the path to mastery is very long and will require a lot of work so you will not be a senior ML engineer by the end of by the end you finish by the time you finish the course but uh you'll have enough knowledge to be an entry- level ML engineer um Yeah. So, you'll be able to independently create some things. Will we have any certificates to put on LinkedIn? Yes, you will. I think we even have an example. Do we? Let me check. Uh yeah, actually we have uh like if you go to the articles, we have some success stories from previous uh students. Um does he share his certificate? Yeah, this is the model he built now. So what I will do is I will just share these articles with you and you can check them out. I see that there are some questions in the chat. So, it's better to use the slider link cuz for me it's very difficult to keep track of the questions in the live chat. So, let's see here. Do we have I think we somewhere had an example of a certificate but yeah there will be a certificate. So I just wanted to show it but uh I don't think I can easily buy Oh actually I think I can so certificates. Yeah, here is an example. So this is how certificates will look like. So this is something you can upload to LinkedIn and we actually have instructions of how you can add this to LinkedIn. What does life cohort look like? Are there any deadlines? Yes. Um so the um we do this everything in a live cohort. There are deadlines. So um this is uh the platform we are going to use for learning. And let's take a look at the last year. So you see we have homework and then we have deadline for this homework right for each homework we have deadlines you have to finish the homework before the deadline and all the interactions happen in slack so in slack there are other fellow learners with who you can interact uh also the course instructors are there in slack so we help you too but mostly you interact with other learners um and yeah so every week or sometimes for some modules we have two weeks uh per model. Just a second. For some weeks we have two weeks per model. For some uh for some modules we have one week per module. Um and then everyone works at the same time at the same thing. Right? So that's the main idea. Then um last year we also had a competition a competition on Kaggle. So this year we might have something too. And then also projects are here. So everything uh we work on is here on this platform and yeah we have some deadlines after the deadline passed you will not be able to submit the homework. So usually after the deadline we score all the homeworks we publish the solutions that's why after the deadline once the solutions are published it doesn't make sense to actually keep it open right because you can see the solutions and simply copy it. So yeah, so there are deadlines to keep you to help you um um with um sticking to the schedule. Then we also have a leaderboard where I think Alexander this is the person who wrote uh this article, right? It's actually he wrote too. Cool. Um so uh yeah we have this uh leaderboard and then uh you get points by um solving homeworks correctly and by sharing your progress in public. So we encourage learning in public. Um yeah we will talk about this more on the course lounge. But we encourage everything you learn to uh to share in public. And I I think I can um also share this thing. Do I have the same thing? Oh, so just yesterday I interviewed one of the students uh pastor. So pastor um he finished first on the leaderboard I think it was two years ago. So he shares his experience and also how public learning helped him. So I think this is a really cool episode, really cool interview. I will share it with you. Uh and then um inter view with pastor. So many good things happened to pastor after he shared the the learning after he learned in public. So uh we encourage you to do this and then we have this leaderboard. Okay. So yeah, once the course starts, you will have um these lessons with deadlines. Uh these deadlines will change as we go along the course because some things happen. Um sometimes there are delays. Uh yeah, but at the beginning we give you a rough uh schedule. So then you can some do some planning. Are there zoom lectures or live sessions on YouTube and learning while learning and what time? So all the things are pre-recorded. We will have one live stream for the launch and that's it. So we used to have um we used to have office hours. Right now I don't see any point in uh doing these office hours cuz we have done these office hours in the past. All the questions that people had I answered. So you can just rewatch the old office hours videos. Uh so there will be no live sessions. Um, you just watch pre-recorded videos and then you interact with others in Slack. Uh, yeah, I think I just answered that. Is it best to use a Kaggle data set or to find one ourselves? Is it a question about the project? Um, like Kaggle is a good platform for data sets, but it's not the only source. You can find data sets in other places too. So, It doesn't matter actually. I answered that question. Would you do a data science to camp? No. Uh I mean this one is kind of data scienceish cuz uh if we look at the syllabus, we have uh one, two, three, four, five, six modules. Did I correctly? One, two, three, four, five, six. Yeah, six modules or seven uh that are about data science. I think that's enough. Yeah, I don't see a point in creating another course just for that. So, it will be like the same material. Uh will we will we deploy ML models locally or use remote environment both? Um actually for the course uh for the project of the course you will get extra point if you deploy to the cloud uh but also I know some of you cannot um for whatever reasons um do the cloud thing then you can just deploy locally you will just get fewer points but we do show how to deploy to the cloud not just locally. I am a data engineer and I want to become a male engineer. Will this course help? If yes, how much? Yes, it will. Um, I don't know how to answer the second like very much. Yeah, well, it will help you. Yeah. Um, what is the better job for the future? Data engineer, data scientist or how do you measure better like um um the way I would rephrase it, what is the better job for me in the future? Do I enjoy doing data engineering, data science or machine learning? So once you have the answer then you have the answer for this question cuz the the point is to do what you enjoy most like if let's say somebody says oh yeah data engineers are more in more demand cuz there are more vacancies but then you hate data engineering you don't like it like so does it mean you have to do it or maybe there are fewer ML engineering jobs but you just like it more so then just go with this so yeah and then who knows maybe AI will replace all of them. So yeah, I'm I'm joking. I don't think it will replace but um yeah, in terms of better like you define better and then yeah, you just select it for yourself. Is there a leaderboard? Yeah, we talked about the leaderboard. Will anyone with zero technical background uh where is Hendrick to get this? Yeah, I I think I answered that. So if you have the motivation, if you have the time and if you're willing to put the time and energy into this then you will be able to finish. Uh so there will be three projects and in order to get a certificate you will need to finish two out of three at least. So you can finish three of course but you need to finish at least two. So it will be a midterm project and uh so midterm project will happen between um let me check uh yeah so you see we have module number six and then module number eight so we kind of jump so there is no module number seven so what happens here is the midterm project and then we will also have after the Kubernetes module we will have two more projects so out of these three projects you will need to finish two uh what the prerequisites we talked about what is the weekly time commitment. So it really depends on your background but we have some numbers from the past. So you can see you can go to any homework and see homework statistics and then you can see how much time people spend on this. So on average people spend 4 hours watching lectures and 2 hours watching or doing the homework. So it probably means that the homework was too simple and this year we need to make it more complex, right? But of course uh yeah it all depends on your background. So for most people it was easy or I mean it was just 6 hours and this module lasted two weeks. I don't think it's a lot of time. Uh but then let's say take is deploying see statistics. Yeah, this one is uh wait time spent. Yeah, so people spend more time watching lectures here and more time on homework. So this one was more difficult. So you can do this uh for um projects. I still need to implement the dashboard like that. Uh the data is there. I just need to build the page. Uh maybe I just should just use cursor for that. The d is there. I just need to um visualize visualize it. So what I what I want to have is a dashboard for all the homeworks and projects on one page. And by the way, if you want to help with uh this uh this actually is a jungle project. So all of that is open source. And uh yeah, if you have some free time and you want to help with uh some of these things, uh your contributions are welcome. Uh please reach to me in Slack first. Uh if you want to do something, don't just open a PR. Um then we discuss what's the best way of implementing this then you go ahead and implement um yeah that's also possible but um if no one volunteers eventually I want to implement this one dashboard that shows the effort you need to put for all the homeworks and the projects too. So uh but speaking of the projects I think it's uh 10 to 20 10 to 20 hours of work to do the project. So let's say 10 per week would be a nice estimate uh upper uh estimate from five five to 10. Will the capstone projects be something we can use in our portfolio to show recruiters or hiring green managers? Yes. Yes, definitely. And I was talking about this video with pastor. So he finished was it three years ago? Um but he says he still uses his uh three projects. So he completed um u the midterm at two capstones and he still uses these projects uh when he talks to clients. So he works as a freelancer and then he has his portfolio and then he shows that uh to people still shows this. So yes definitely and this is the intention. So the intention we have for you when you uh build your projects for the course think of these projects not as projects that you do it for the course but the projects you do for yourself for your project portfolio and for the hiring managers. So think that it's not only uh your peer students who will evaluate these projects but also eventually it will be a hiring manager who will look at the projects. So keep this in mind when you work on the projects and then you will have very nice additions to your project portfolio. Uh do you set up an environment for deploying the models? Uh in a couple of phrases, how is deployment going to look like? Um so deployment. Okay. So first of all, the environment for training for the course is as I said it's a Linux environment. Uh the recommended environment wait I I think I might be confusing you. So you can you can work anywhere you want. Could be your laptop, could be um a machine you rent on the cloud. The recommended environment is GitHub code spaces. When you use GitHub code spaces, you get a Linux machine. It's a Debian based Linux. So things like app get work there. You have Docker there. Um so this is the environment uh we recommend to use for learning. Then at some point it's module five where we will talk about virtual uh environments and uh containerization and deployment. We will introduce tools like uh UV like docker um like in the workshop we used fly io for deploying or in the model we used elastic bins. There are also many many other ways to deploy your models. Then it's up to you to decide how where you want to deploy. But the main part here is containerization uh which we do with docker and uh yeah so that's the main kind of environment I guess uh but yeah so then um also we talk a lot about um we have a module on serverless where we show how to do how to do deployment with AWS Lambda and we talk about Kubernetes where we show how to do deployment with Kubernetes. So once you have once you package things in your Docker container, you can deploy it virtually everywhere anywhere you want, right? Fly IO, uh AWS services, Kubernetes, whatever. Okay. Will we learn how to handle ML model monitoring and model retraining workflows like in production systems? No. This is something you we cover in MLOps zoom camp not in this one. Uh will taking the course be useful for aspiring data engineers? I think I answered this questions. Um so if your goal is to become a data engineer, this course will not be useful. So this course is for ML engineers well not for data engineers. Why do we get more points if we deploy the model to the cloud? Cuz um this is extra work, right? If you don't deploy, you don't get points. If you deploy, you get points. That's it. Um, Al, hi Al. I'm an engineering manager for some years in classical system building. Would you recommend this course for me? Well, Al, I need to know a little more about you to say if I can recommend this course to you. Uh, the question I have to you is if you're interested in machine learning. If the answer is yes, then I definitely can recommend this course. If the answer is no, I don't know what you're doing here. How often are live sessions and what's a typical schedule this week? So, we don't have live section live sessions. We only have pre-recorded. Well, when I say we don't, it doesn't mean we don't have them at all because right now is last live session, right? We will have another one when the course when we launch the course, but that will be the only one. Uh I don't think we I I don't plan any other live sessions. Um uh will there will be some um workshops too because I want to update some of the modules but there will be separate announcements. Uh most of the material is pre-recorded so uh you just watch those. So yeah uh I will do a live session on Kubernetes and a live session on PyTorch and these live sessions become the course materials. So next year when we um launch the sixth cohort of this course, I will simply use the materials I record now as a part of live session in the cohort. So they will be you can just treat them as pre-recorded cuz this this um what did I say I shared this workshop right on UV and fast API. So this was a live session but I will simply include the recording of the live session into course materials and say yeah these are the course materials and this will be like pre-recorded because I already recorded the live session frequency of I think I already answered this. Um can we catch up later if we miss a day? Yes. Um like all the the things are pre-recorded and you just follow these things. So you go let's say module number one you go unit number one there is a video you watch it if you have questions you ask them in slack and there will be this cohorts folder like I will create 2025 here um maybe I will do this right after this workshop but I definitely do it before we have the launch stream so this is how it looked the last year so there are some specific things for um the past cohort in particular it was the homework. So you follow the videos and at the end there is a homework you do the homework you submit the homework and that's your plan for one module then you repeat it for the next one and so on. So really simple I think and then you can work at this any time you want so you're not restricted to any particular time slot. If I'm a data engineer and I also love mathematics is MLE for me I think I like MLE because of the idea that I can do will do a lot of math. So I have to disappoint you MLE do not really work with a lot of math. Um I don't think MLE is do any math at all. Um and so if you want to do modeling I think it's more like a data scientist role rather than ML engineering role. ML engineers typically are more focused on the engineering side rather than modeling side. Of course, there are companies where um you need to do everything starting from modeling and then um deploy. But um yeah, typically there is some how to say role separation. So data scientists they're a bit more uh math inclined let's say and ML engineers they're more engineering inclined. um doesn't mean there these roles are set in stone. Um I know some ML engineers who are pretty good at modeling. So they do this. Uh the reason I the reason we have these modules here cuz I think this is still important for ML engineers to be able to create a simple model. Uh but you will not as I said you will not win a Kaggle competition with this knowledge. Right? So these are pretty basics. Um so I have to disappoint you here. here we don't really have a lot of math but also as a data scientist I didn't need to really use a lot of math to be honest how we should balance learning uh the tools versus understanding the core concepts what should come first in practice so for me uh I was an engineer I used to work as a dove developer and then I switched to machine learning the way I did this the way I structured My learning was on by doing projects. So I had a project in mind and then I learned just enough to deliver this project and then sometimes some things were interesting for me so I would dig deeper into some of the topics. But for me as an engineer the approach of focusing the project of having an end in mind really helped to stay focused and this is the approach we use here in the course. So here um let's say for this for this the third uh module uh the problem we have is term prediction right so there are some people we are working in a telecom company there are some people who canceling their contract with the company with our company so we want to detect u people who are about to cancel and prevent them from doing this so we want to send them an a promotional email saying hey uh like here's a discount don't please don't go. Um so in hope that we will retain these customers. So here's the project description and we cover just enough theory to finish the project right and you don't need more and this project based learning I think it's the best um learning because otherwise you risk of going too deep into some things and spend too much time on that. So this is how I think you should balance learning. So you kind of need both tools and understanding the core ML concepts but you need just enough to reach the goal you have in mind but then you do this you complete the project and you have another project and then you kind of continue right um for me also Kaggle helped. So on Kaggle uh the goal was to compete in the in a competition right to have a good model and then for that I needed to learn things and because um you also have a job so you cannot spend a lot of time on Kaggle so your time is restricted and you try to do okay what is the most efficient use of my time right so for me it was personally it for me personally it was super helpful to uh and there I also balanced learning the tools versus understanding the corl concept cuz I was really focusing on the competition. Uh both homeworks and projects are mandatory to receive the certificate. No. Uh so only projects are mandatory for the certificates. The homeworks are not. It's up to you if you want to spend time on them or not. Um the homeworks are graded automatically. So the homeworks they're typically multiple choice questions. So this is how they or sometimes you need to put something um but more often than not it's multiple choice questions. So you just uh do what we ask. So here this is how homeworks looks like. So you just need to install pandas and then we ask what is the version or uh you get some data and you need count records or uh do some exploratory data analysis in this particular case right and then you submit these things and because there is only one or two correct answers. This is graded automatically but we try to make this homeworks interesting enough so it's interesting for you and easier for us to grade. Right? So that's um when it comes to homeworks or uh midterm projects you need to evaluate u so you you deliver a project. So there are some criteria you need to satisfy. So these are the criteria problem description exploratory data analysis model training and so on. And then you also need to evaluate your peers and then at the end you get a report. So some Peters some of the peers they say um they give you feedback. So this is the feedback I got but the project I submitted was a fake course project. So there was nothing that's why I didn't get any points. Uh the reason I got uh nine uh is uh cuz I evaluated other peers. So that's why um like for each evalation I get three points. But this is how it's done. So the we evaluate projects by doing peer review and peer review is mandatory to complete the project. So if you submit a project but you don't do peer reviewing you fail the project and if you fail a project you fail the course. Right? So this very important to do peer reviews. Uh will the course make one job ready? Yes. If you put effort in the the the course and if you make a good project, if you also follow our recommendations to learn in public, this will definitely make you job ready. Uh what's the next path to follow after the completing the course? Uh to step into advanced stuff, find a job. That's the best way. Um cuz you can do courses forever, but I think you need to work on projects. This is where the real experience comes from. So you need to find something that is a job. Maybe at the beginning could be difficult but then find a volunteering job. I don't know there are so many places where you can volunteer. So put your skills into practice and then by doing this you will again do this project based learning that I um talked about and then it will force you to learn new things in order to solve a problem you have and then you build a portfolio of things and then it will make you even more job ready. Um yeah so I wouldn't recommend taking another course of course you can do a melops course that we have you can find a lot of courses like we have this page yeah wait no not this one 23 free online courses on machine learning so there are a lot of courses not just our course there are so many other courses but um I wouldn't recommend to spend too much time on learning things I would just say I mean on learning through courses. Courses are useful and important and for me personally courses were super helpful in my career but just don't do don't do just courses right so I would suggest to start involve being involved in different projects as soon as possible. Um you said the course videos are pre-recorded so the ones already available on the platform they will be updated. Uh if not can we begin accessing them beforehand? Yes, you can access them beforehand. Um, only two more modules will be updated. Um, so uh this one this this this will stay the same. I'm not going to update them. This one is already updated. I just need to put this in the description. But this one was the UV and fast API module uh workshop. I'll just simply include the link to the workshop here. That will be all the update. So this is going to stay the same. In this we will uh add extra material on PyTorch. So the TensorFlow part will stay the same. So what you can do is now you go go through TensorFlow part but then we will show how to do exactly the same thing with uh PyTorch. So we will not do any theory. We will just do practice with PyTorch because the theoretical part is recorded with TensorFlow and it will stay the same. This one is updated and this one is going to be updated. Uh some of the fundamentals are still valid. It's just we are not going to use TensorFlow serving. Um but yeah, you can watch the course. Uh actually I think TensorFlow serving is still good. So yeah, we'll just need to use uh newer versions. Uh but I also want to record any some extra things here. Uh some extra things here. So you but um to answer your question you can go ahead and watch the videos right now. There will be some updates but by watching the videos um so the updates will be extra materials right so you can already just watch what we have. Would you do a math for AI zoom camp or boot camp? No. Um detailed timeline. I talked about this. We talked about this. Um would you share any assignments or problems after each module? Uh yes, we have homework and we also have um like solutions. We publish the solutions. If I miss cohorts, will I not get the certificate? Do you miss if you do you mean if you miss uh a homework? If you miss a homework, you will still get a certificate. If you miss the entire cohort, you will not get the certificate, of course. uh answered. So the homeworks will be different but you can check the past homeworks. Yeah. Um any resource tutorials to sharpen my Python skills? Chad GPT is really good. So just use CHP. Does the course cover fundamental mathematics needed for machine learning? No, we don't cover these things. Just a little bit of algebra. I want to learn artificial intelligence, machine learning. Um I think I answered that question. You can see this from the syllabus what we cover and what we don't. This is not a replacement for MLOps course. Um uh answered question from Alex. So maybe this is the last question I'm going to take. How do you maximize learning with LM? You let it explain to you but take care to do things that you're learning manually. So the easiest way um you can do so let's say uh there is um this piece of code you don't understand uh let's see so let's say you're struggling with docker and then you don't understand what's happening here so then what you can do is you can copy paste these things to chip and say hey please explain midline by line what happens here and then chaptt is doing quite a good job at that So this is uh what I'm mean mostly but uh I think it has this learning mode that they published recently. Uh I haven't experimented with that but typically for me I just hey this is not detailed enough. I have an example actually from one of the workshops I gave. So let's say this coding agent. So in this um new workshop I was showing how to create a Django template even though like it wasn't about Django. So, I didn't want to spend time uh on explaining jungle stuff. And I think I just showed where is it? Think somewhere is a link build from scratch. Yeah. I don't know. chat GPT did I not post it? Okay, weird. Uh I think it was a different document. Anyways, um so what I did is I just um posted where so all these things like building the jungle app from scratch and I just edited this copied this to jungo and said hey this is the tutorial I don't understand explain it line by line and then it gave me some explanation but I say okay this explanation is not detailed enough I don't understand this step and then it explained me this step so this is how you can approach that Um yeah, so I I need to run now. I have another meeting right now. So um well I still I I managed to answer quite a few questions. So thanks a lot for uh joining me today for asking your questions. Uh this was an amazing session. Thanks a lot for all these questions. And what I can do is I still see that there are some questions. You can keep asking these questions and we will cover uh these questions on our next stream which will be um on September 15th when we launch the course. So there will be a section for Q&A where I will continue answering the questions you have. So if your question was not answered um I'll try to address this next time. So thanks a lot for joining. You have to run now. Um, so yeah, see you around and all the links are in the description if you're interested in enrolling into this course. Um, yeah, there's a sign up button. Click on that and you will receive an email and we will start on September 15th. So, bye everyone. See you soon. \""
      ]
     },
     "execution_count": 60,
     "metadata": {},
     "output_type": "execute_result"
    }
   ],
   "source": [
    "clean_transcript"
   ]
  },
  {
   "cell_type": "code",
   "execution_count": 61,
   "id": "2c096125",
   "metadata": {},
   "outputs": [],
   "source": [
    "from langchain_text_splitters import RecursiveCharacterTextSplitter\n",
    "\n",
    "\n",
    "splitter = RecursiveCharacterTextSplitter(\n",
    "    chunk_size=80,\n",
    "    chunk_overlap=20,\n",
    "    separators=[\"\\n\\n\", \"\\n\", \". \", \" \"]\n",
    ")\n",
    "\n",
    "chunks = splitter.split_text(clean_transcript)"
   ]
  },
  {
   "cell_type": "code",
   "execution_count": 63,
   "id": "f8d7f211",
   "metadata": {},
   "outputs": [
    {
     "data": {
      "text/plain": [
       "908"
      ]
     },
     "execution_count": 63,
     "metadata": {},
     "output_type": "execute_result"
    }
   ],
   "source": [
    "len(chunks)"
   ]
  },
  {
   "cell_type": "code",
   "execution_count": 66,
   "id": "a2405fa3",
   "metadata": {},
   "outputs": [
    {
     "data": {
      "text/plain": [
       "'So hi everyone. Uh today we are going to talk about our upcoming course'"
      ]
     },
     "execution_count": 66,
     "metadata": {},
     "output_type": "execute_result"
    }
   ],
   "source": [
    "chunks[0]"
   ]
  },
  {
   "cell_type": "markdown",
   "id": "76cd50dd",
   "metadata": {},
   "source": [
    "### Token TextSplitter"
   ]
  },
  {
   "cell_type": "code",
   "execution_count": 67,
   "id": "71770178",
   "metadata": {},
   "outputs": [],
   "source": [
    "from langchain_text_splitters import TokenTextSplitter\n",
    "\n",
    "splitter = TokenTextSplitter(\n",
    "    chunk_size=64,      # tokens\n",
    "    chunk_overlap=16,   # tokens\n",
    "    encoding_name=\"cl100k_base\"  # for OpenAI tokenization; change if needed\n",
    ")\n",
    "\n",
    "chunks = splitter.split_text(clean_transcript)"
   ]
  },
  {
   "cell_type": "code",
   "execution_count": 69,
   "id": "f8ae264c",
   "metadata": {},
   "outputs": [
    {
     "data": {
      "text/plain": [
       "229"
      ]
     },
     "execution_count": 69,
     "metadata": {},
     "output_type": "execute_result"
    }
   ],
   "source": [
    "len(chunks)"
   ]
  },
  {
   "cell_type": "code",
   "execution_count": 70,
   "id": "5f165715",
   "metadata": {},
   "outputs": [
    {
     "data": {
      "text/plain": [
       "\"So hi everyone. Uh today we are going to talk about our upcoming course. The upcoming course is called machine learning zoom camp. And um this is already I put the link in the description. So if you're watching um this video in recording or you're watching it live, you go here in the description after under\""
      ]
     },
     "execution_count": 70,
     "metadata": {},
     "output_type": "execute_result"
    }
   ],
   "source": [
    "chunks[0]"
   ]
  },
  {
   "cell_type": "markdown",
   "id": "d457b04d",
   "metadata": {},
   "source": [
    "### MarkdownTextSplitter"
   ]
  },
  {
   "cell_type": "code",
   "execution_count": 71,
   "id": "c243e200",
   "metadata": {},
   "outputs": [
    {
     "name": "stdout",
     "output_type": "stream",
     "text": [
      "--- chunk 1 ---\n",
      "# Title\n",
      "Intro paragraph.\n",
      "\n",
      "## Section A\n",
      "Details for section A.\n",
      "\n",
      "### Sub A1\n",
      "Deep details.\n",
      "\n",
      "## Section B\n",
      "More content here.\n",
      "\n"
     ]
    }
   ],
   "source": [
    "from langchain_text_splitters import MarkdownTextSplitter\n",
    "\n",
    "md = \"\"\"# Title\n",
    "Intro paragraph.\n",
    "\n",
    "## Section A\n",
    "Details for section A.\n",
    "\n",
    "### Sub A1\n",
    "Deep details.\n",
    "\n",
    "## Section B\n",
    "More content here.\n",
    "\"\"\"\n",
    "\n",
    "splitter = MarkdownTextSplitter(chunk_size=200, chunk_overlap=20)\n",
    "chunks = splitter.split_text(md)\n",
    "for i, c in enumerate(chunks, 1):\n",
    "    print(f\"--- chunk {i} ---\\n{c}\\n\")\n"
   ]
  },
  {
   "cell_type": "markdown",
   "id": "e02fedab",
   "metadata": {},
   "source": [
    "### HTMLHeaderTextSplitter"
   ]
  },
  {
   "cell_type": "code",
   "execution_count": 76,
   "id": "2f109c31",
   "metadata": {},
   "outputs": [
    {
     "name": "stdout",
     "output_type": "stream",
     "text": [
      "0\n",
      "{'H1': 'Guide'} Guide ...\n",
      "\n",
      "1\n",
      "{'H1': 'Guide'} Overview paragraph. ...\n",
      "\n",
      "2\n",
      "{'H1': 'Guide', 'H2': 'Install'} Install ...\n",
      "\n",
      "3\n",
      "{'H1': 'Guide', 'H2': 'Install'} Steps to install... ...\n",
      "\n",
      "4\n",
      "{'H1': 'Guide', 'H2': 'Usage'} Usage ...\n",
      "\n",
      "5\n",
      "{'H1': 'Guide', 'H2': 'Usage'} Basic usage... ...\n",
      "\n",
      "6\n",
      "{'H1': 'Guide', 'H2': 'Usage', 'H3': 'Advanced'} Advanced ...\n",
      "\n",
      "7\n",
      "{'H1': 'Guide', 'H2': 'Usage', 'H3': 'Advanced'} Advanced usage... ...\n",
      "\n"
     ]
    }
   ],
   "source": [
    "from langchain_text_splitters import HTMLHeaderTextSplitter\n",
    "\n",
    "html = \"\"\"\n",
    "<html><body>\n",
    "<h1>Guide</h1><p>Overview paragraph.</p>\n",
    "<h2>Install</h2><p>Steps to install...</p>\n",
    "<h2>Usage</h2><p>Basic usage...</p>\n",
    "<h3>Advanced</h3><p>Advanced usage...</p>\n",
    "</body></html>\n",
    "\"\"\"\n",
    "\n",
    "splitter = HTMLHeaderTextSplitter(headers_to_split_on=[(\"h1\", \"H1\"), (\"h2\", \"H2\"), (\"h3\", \"H3\")])\n",
    "docs = splitter.split_text(html)          # returns list[Document] with header metadata\n",
    "for idx, d in enumerate(docs):\n",
    "    print(idx)\n",
    "    print(d.metadata, d.page_content[:80], \"...\\n\")\n"
   ]
  },
  {
   "cell_type": "markdown",
   "id": "70117195",
   "metadata": {},
   "source": [
    "### SentenceTransformersTokenTextSplitter"
   ]
  },
  {
   "cell_type": "code",
   "execution_count": 77,
   "id": "0bb52a99",
   "metadata": {},
   "outputs": [
    {
     "name": "stdout",
     "output_type": "stream",
     "text": [
      "118 chunks\n"
     ]
    }
   ],
   "source": [
    "from langchain_text_splitters import SentenceTransformersTokenTextSplitter\n",
    "\n",
    "\n",
    "st_splitter = SentenceTransformersTokenTextSplitter(\n",
    "    tokens_per_chunk=128,\n",
    "    chunk_overlap=32,\n",
    "    model_name=\"sentence-transformers/all-MiniLM-L6-v2\"  # matches your embeddings model\n",
    ")\n",
    "\n",
    "chunks = st_splitter.split_text(clean_transcript)\n",
    "print(len(chunks), \"chunks\")\n"
   ]
  },
  {
   "cell_type": "code",
   "execution_count": 78,
   "id": "9d9d1bd1",
   "metadata": {},
   "outputs": [
    {
     "data": {
      "text/plain": [
       "\"so hi everyone. uh today we are going to talk about our upcoming course. the upcoming course is called machine learning zoom camp. and um this is already i put the link in the description. so if you ' re watching um this video in recording or you ' re watching it live, you go here in the description after under this video and then you see a link course. uh click on that link and this bring you will bring you to this website this github page. this github page is the main entry point to our course and um yeah i think it ' s more or less self - explanatory.\""
      ]
     },
     "execution_count": 78,
     "metadata": {},
     "output_type": "execute_result"
    }
   ],
   "source": [
    "chunks[0]"
   ]
  },
  {
   "cell_type": "markdown",
   "id": "d609d5ce",
   "metadata": {},
   "source": [
    "# Section 3: Rag"
   ]
  },
  {
   "cell_type": "code",
   "execution_count": 79,
   "id": "36d5b431",
   "metadata": {},
   "outputs": [],
   "source": [
    "openai_client = OpenAI()\n",
    "\n",
    "def llm(user_prompt, instructions=None, model=\"gpt-4o-mini\"):\n",
    "    messages = []\n",
    "\n",
    "    if instructions:\n",
    "        messages.append({\n",
    "            \"role\": \"system\",\n",
    "            \"content\": instructions\n",
    "        })\n",
    "\n",
    "    messages.append({\n",
    "        \"role\": \"user\",\n",
    "        \"content\": user_prompt\n",
    "    })\n",
    "\n",
    "    response = openai_client.responses.create(\n",
    "        model=model,\n",
    "        input=messages\n",
    "    )\n",
    "\n",
    "    return response.output_text"
   ]
  },
  {
   "cell_type": "code",
   "execution_count": null,
   "id": "586a04d7",
   "metadata": {},
   "outputs": [],
   "source": []
  },
  {
   "cell_type": "code",
   "execution_count": 81,
   "id": "ef7a9a6c",
   "metadata": {},
   "outputs": [],
   "source": [
    "instructions = \"\"\"\n",
    "You're a course teaching assistant. Answer the QUESTION based on the CONTEXT from the video transcript.\n",
    "Use only the facts from the CONTEXT when answering the QUESTION.\n",
    "\"\"\".strip()\n",
    "\n",
    "prompt_template = \"\"\"\n",
    "<QUESTION>\n",
    "{question}\n",
    "</QUESTION>\n",
    "\n",
    "<CONTEXT>\n",
    "{context}\n",
    "</CONTEXT>\n",
    "\"\"\".strip()\n",
    "\n",
    "def build_prompt(question, search_results):\n",
    "    search_json = json.dumps(search_results)\n",
    "    return prompt_template.format(\n",
    "        question=question,\n",
    "        context=search_json\n",
    "    )"
   ]
  },
  {
   "cell_type": "code",
   "execution_count": 87,
   "id": "bef8de13",
   "metadata": {},
   "outputs": [],
   "source": [
    "embedding_model= SentenceTransformer(\"/models/all-MiniLM-L6-v2\")"
   ]
  },
  {
   "cell_type": "code",
   "execution_count": 88,
   "id": "92575348",
   "metadata": {},
   "outputs": [
    {
     "data": {
      "text/plain": [
       "[\"so hi everyone. uh today we are going to talk about our upcoming course. the upcoming course is called machine learning zoom camp. and um this is already i put the link in the description. so if you ' re watching um this video in recording or you ' re watching it live, you go here in the description after under this video and then you see a link course. uh click on that link and this bring you will bring you to this website this github page. this github page is the main entry point to our course and um yeah i think it ' s more or less self - explanatory.\",\n",
       " \". this github page is the main entry point to our course and um yeah i think it ' s more or less self - explanatory. if you want to sign up this is the button you click and the actual course starts in on september 15th. it means that it ' s uh slightly less than one one month before the course starts and the purpose of today ' s um session is to just answer your questions. so you have some questions and uh you can ask these questions using uh you can ask your questions using the pinned link. so there ' s a pinned link in the live chat. click on that link um\",\n",
       " \"ask these questions using uh you can ask your questions using the pinned link. so there ' s a pinned link in the live chat. click on that link um and there ask your questions. so yeah, this is how it looks like and i am just going to uh use this thing. so we can also go to slo and use ml zoom camp and i ' m going to use that for answering questions. uh one thing though, so before we start, i just wanted to mention that um this course has been running for uh this will be the fifth edition of this course. so we ' ve been doing this course for quite some\",\n",
       " \"to mention that um this course has been running for uh this will be the fifth edition of this course. so we ' ve been doing this course for quite some time. many people already graduated from this course and um most of the content we use here is the content i uh recorded like four years ago but we are updating the content so cuz u back then everyone was using python 3. 8 eight or nine something like. so yeah, we are re - recording some of the things in particular. module one, two, three, four will uh stay the same cuz uh this uh these are the fundamentals. they didn '\",\n",
       " \"the things in particular. module one, two, three, four will uh stay the same cuz uh this uh these are the fundamentals. they didn ' t change. but module five we uh will update. module 6 will stay the same. module 8 we will update. module 9 update update. and this we will not include like we only include it once and this thing get outdated very fast. so we just i just didn ' t bother updating this at all and it ' s pretty advanced material. so we will update like four out of 10 modules. so that ' s the plan. uh and we already had some workshops\"]"
      ]
     },
     "execution_count": 88,
     "metadata": {},
     "output_type": "execute_result"
    }
   ],
   "source": [
    "chunks[:5]"
   ]
  },
  {
   "cell_type": "code",
   "execution_count": 89,
   "id": "40338d39",
   "metadata": {},
   "outputs": [
    {
     "data": {
      "application/vnd.jupyter.widget-view+json": {
       "model_id": "ba1a945da16b40a782f156fcdf0b76fe",
       "version_major": 2,
       "version_minor": 0
      },
      "text/plain": [
       "  0%|          | 0/118 [00:00<?, ?it/s]"
      ]
     },
     "metadata": {},
     "output_type": "display_data"
    }
   ],
   "source": [
    "embeddings = []\n",
    "\n",
    "for d in tqdm(chunks):\n",
    "    text = d\n",
    "    v = embedding_model.encode(text)\n",
    "    embeddings.append(v)"
   ]
  },
  {
   "cell_type": "code",
   "execution_count": 98,
   "id": "cd0e79f5",
   "metadata": {},
   "outputs": [
    {
     "data": {
      "text/plain": [
       "118"
      ]
     },
     "execution_count": 98,
     "metadata": {},
     "output_type": "execute_result"
    }
   ],
   "source": [
    "len(embeddings)"
   ]
  },
  {
   "cell_type": "code",
   "execution_count": 97,
   "id": "d18cbdf7",
   "metadata": {},
   "outputs": [
    {
     "data": {
      "text/plain": [
       "array([-5.18129133e-02, -8.77601802e-02, -2.62539368e-02, -1.92901120e-02,\n",
       "        7.45076165e-02, -4.01848666e-02,  2.01712102e-02, -2.15604194e-02,\n",
       "       -8.17215517e-02, -4.33636317e-03,  1.82826463e-02,  7.34690055e-02,\n",
       "       -2.27548908e-02, -1.36467936e-02, -4.55070324e-02, -2.74095288e-03,\n",
       "        5.13295271e-02,  9.68081411e-03, -3.30747515e-02, -1.98295270e-03,\n",
       "        9.73599330e-02, -3.03309113e-02,  2.40222998e-02,  6.49953485e-02,\n",
       "        2.30945647e-02, -7.15019507e-03,  8.77129566e-03,  7.51350820e-02,\n",
       "        4.12595235e-02, -2.70779766e-02, -2.62982957e-03,  5.35820089e-02,\n",
       "        7.76336808e-03, -6.33357931e-03, -1.42535334e-02,  4.69800830e-02,\n",
       "        8.39236844e-03, -6.42409846e-02, -7.03288689e-02, -1.45103391e-02,\n",
       "       -4.33865264e-02,  2.15032287e-02,  6.24255799e-02,  4.60156649e-02,\n",
       "        5.30798174e-02,  5.53228669e-02, -2.23573186e-02, -1.59607634e-01,\n",
       "        2.53401540e-05, -7.27942307e-03, -1.23386234e-01, -1.17364287e-01,\n",
       "       -8.57263133e-02, -7.36312121e-02, -5.21717779e-02,  2.00229548e-02,\n",
       "       -6.31453935e-03, -2.35161893e-02, -1.39226876e-02, -1.52716646e-02,\n",
       "        6.20814189e-02, -7.65728578e-02, -7.20908418e-02,  5.53858578e-02,\n",
       "        2.88575385e-02, -4.87727560e-02,  3.03844754e-02,  4.19675484e-02,\n",
       "        7.91707560e-02, -9.87416133e-02, -7.51424208e-02,  1.45348487e-02,\n",
       "        1.17663918e-02,  3.53028737e-02,  5.56806056e-03, -6.85508028e-02,\n",
       "       -1.90179832e-02,  8.25010985e-02,  4.02188376e-02,  6.40490418e-03,\n",
       "        4.06886078e-02, -1.62304714e-02,  3.52641083e-02,  3.36942710e-02,\n",
       "        2.92947385e-02, -1.56369414e-02,  2.01515425e-02,  1.03223994e-02,\n",
       "       -1.19310254e-02,  1.45598240e-02, -2.77382191e-02, -2.32310649e-02,\n",
       "       -2.64635719e-02, -5.55679202e-03, -8.06223042e-03,  7.30054220e-04,\n",
       "       -2.88749002e-02, -7.79744089e-02, -2.37397710e-03,  3.88886593e-02,\n",
       "       -3.02034691e-02,  8.43171775e-03,  2.33974773e-02, -6.16347827e-02,\n",
       "       -3.64789069e-02,  1.59236584e-02,  2.10178867e-02,  9.77431312e-02,\n",
       "        1.18764691e-01, -3.54775861e-02, -3.42518538e-02,  1.81224756e-02,\n",
       "       -3.00447326e-02, -6.04951642e-02,  6.71769213e-03,  7.07494467e-02,\n",
       "       -5.11482125e-03, -8.48501548e-03,  1.17879480e-01,  4.51552384e-02,\n",
       "       -2.74558682e-02, -2.01932304e-02, -1.36578153e-03,  5.58668934e-03,\n",
       "        1.59667321e-02, -1.12262480e-01, -9.19722095e-02, -5.56035782e-34,\n",
       "        1.58973828e-01, -1.75835378e-02,  2.03826688e-02,  3.16773765e-02,\n",
       "        6.65583313e-02, -1.24543989e-02, -5.67246489e-02, -2.74775140e-02,\n",
       "       -1.07487589e-01,  2.79370155e-02,  5.63476980e-02, -7.28561636e-03,\n",
       "       -3.30818398e-03,  7.77816027e-02, -1.04194665e-02, -9.75043923e-02,\n",
       "       -1.02810338e-01,  4.21410473e-03,  1.08896233e-02, -1.61996000e-02,\n",
       "        2.27624495e-02, -4.01938483e-02,  9.04046465e-04, -5.53927524e-03,\n",
       "        9.45243314e-02,  8.24499726e-02,  1.68238897e-02,  2.00287569e-02,\n",
       "        9.56797972e-02,  5.80113083e-02, -2.75891162e-02,  2.33481117e-02,\n",
       "       -1.23239242e-01, -5.73333688e-02,  9.55323577e-02,  2.74530444e-02,\n",
       "       -3.86906019e-03, -1.19410539e-02,  2.37821392e-03, -4.21350934e-02,\n",
       "        1.55248828e-02, -4.10158783e-02, -4.76162247e-02, -6.92214593e-02,\n",
       "       -3.52442004e-02, -4.15693410e-02,  9.98485386e-02,  1.12529574e-02,\n",
       "        2.79773232e-02, -1.10359462e-02, -5.32940589e-02, -4.16515060e-02,\n",
       "       -7.33422861e-03, -6.64511845e-02, -1.62367299e-02,  3.77133489e-02,\n",
       "       -2.41656089e-03,  8.80454201e-03, -7.72771612e-02,  5.81332557e-02,\n",
       "        4.45217416e-02,  4.17992994e-02, -1.65294781e-02,  1.20164584e-02,\n",
       "       -1.21011892e-02,  1.27721913e-02,  1.82623509e-02,  2.54095327e-02,\n",
       "        8.95385742e-02, -7.24363253e-02, -7.06685334e-02,  1.64259095e-02,\n",
       "       -5.87216578e-03, -4.04777266e-02,  1.89696420e-02,  8.63015279e-03,\n",
       "       -5.76007515e-02, -4.19751182e-03, -4.67442796e-02,  3.73759381e-02,\n",
       "        1.91721413e-03, -4.20769155e-02,  6.21662941e-03,  2.85560098e-02,\n",
       "       -6.08111843e-02, -2.65405630e-04,  6.41338602e-02, -6.74062669e-02,\n",
       "        1.31393867e-02, -1.50975641e-02, -2.26840768e-02,  3.18294833e-03,\n",
       "       -1.48267951e-02,  4.42334339e-02,  5.08058630e-03, -1.42104245e-33,\n",
       "        4.09191065e-02,  5.98126315e-02, -2.48516668e-02,  5.08912690e-02,\n",
       "        5.69788963e-02,  6.65078983e-02,  3.53230424e-02,  2.30217893e-02,\n",
       "        7.74576962e-02,  3.92089188e-02, -2.72062775e-02,  2.31548231e-02,\n",
       "       -5.33859916e-02,  4.42894325e-02, -3.07986513e-02, -3.30477953e-02,\n",
       "       -1.54731637e-02, -3.28977257e-02, -5.02842516e-02, -1.71541069e-02,\n",
       "        1.32084889e-02,  2.74116118e-02, -2.84718932e-03, -7.99412727e-02,\n",
       "        2.45785085e-03,  1.75623540e-02,  5.58118150e-02,  8.71097296e-02,\n",
       "        6.18887227e-03, -3.82472947e-02,  6.35009632e-02, -2.94966903e-02,\n",
       "       -7.88544789e-02, -3.32937278e-02, -1.52541334e-02,  1.07104793e-01,\n",
       "        9.65646505e-02, -2.46091187e-02,  5.36352489e-03,  1.75542645e-02,\n",
       "        1.01901881e-01, -7.49263465e-02, -5.27004898e-02, -1.03068732e-01,\n",
       "        9.12874937e-03, -4.76678163e-02,  8.67532566e-03,  7.82343373e-02,\n",
       "       -1.89158041e-02,  9.64253396e-03, -6.34226575e-02, -1.21149058e-02,\n",
       "       -6.72470266e-03, -1.15206160e-01, -1.22669088e-02,  3.32381874e-02,\n",
       "       -7.15751783e-04,  4.37244214e-02,  2.25141030e-02,  3.09997797e-02,\n",
       "       -3.07891425e-02, -2.43082326e-02, -6.64837584e-02,  5.81446290e-02,\n",
       "       -4.29879650e-02, -3.50544304e-02, -4.50457446e-02,  3.97081152e-02,\n",
       "       -2.53245793e-02,  4.45047840e-02, -1.75402835e-02,  3.72039080e-02,\n",
       "        8.45418312e-03, -7.65051544e-02, -1.39338721e-03, -5.36595471e-02,\n",
       "        7.06964508e-02, -1.00015234e-02, -3.68985385e-02, -5.90986945e-02,\n",
       "        9.65049192e-02, -3.65230977e-03, -1.75580345e-02,  7.48599544e-02,\n",
       "        4.98969033e-02,  4.99128401e-02,  4.58466858e-02,  8.39447603e-02,\n",
       "       -4.08691317e-02, -5.99664338e-02, -4.11779657e-02,  1.50424882e-03,\n",
       "       -1.79075375e-02,  4.71484438e-02, -3.07158064e-02, -4.60157352e-08,\n",
       "       -2.55807731e-02,  8.53972510e-02,  1.40214879e-02,  7.65395584e-03,\n",
       "        2.84331162e-02,  5.02394550e-02,  2.64448635e-02,  6.13096990e-02,\n",
       "       -6.35139346e-02,  6.65492564e-02,  5.14536761e-02, -1.79599393e-02,\n",
       "       -1.64717697e-02,  3.62886116e-02,  3.68375028e-03,  5.71101792e-02,\n",
       "        8.62822868e-03,  4.47943434e-02, -6.79198187e-03, -2.99566407e-02,\n",
       "        1.28822008e-04, -3.87616083e-02,  4.57834676e-02,  1.11385211e-02,\n",
       "       -4.97253090e-02, -2.06505619e-02,  1.16856368e-02,  1.33602783e-01,\n",
       "       -3.75659652e-02, -2.09184047e-02, -4.53819521e-02,  8.71288255e-02,\n",
       "       -5.29573932e-02, -4.99041900e-02, -3.23543958e-02, -4.24183868e-02,\n",
       "       -7.13854656e-02, -3.71227264e-02,  9.21526924e-02,  6.95467228e-03,\n",
       "       -7.09513277e-02,  1.01175560e-02,  9.62263718e-02,  9.51642469e-02,\n",
       "        1.17824255e-02,  1.19404688e-01,  1.91268567e-02, -1.20415509e-01,\n",
       "       -6.79142103e-02,  1.00710206e-02, -6.41427040e-02,  2.25985404e-02,\n",
       "       -5.57432994e-02,  6.20176531e-02,  8.26635882e-02,  1.11943066e-01,\n",
       "        4.08734716e-02, -5.83615564e-02, -4.62713689e-02,  6.81423992e-02,\n",
       "       -3.82381603e-02,  7.51325786e-02, -9.14060473e-02,  3.20593193e-02],\n",
       "      dtype=float32)"
      ]
     },
     "execution_count": 97,
     "metadata": {},
     "output_type": "execute_result"
    }
   ],
   "source": [
    "embeddings[0]"
   ]
  },
  {
   "cell_type": "code",
   "execution_count": 99,
   "id": "90cc9486",
   "metadata": {},
   "outputs": [
    {
     "data": {
      "text/plain": [
       "(118, 384)"
      ]
     },
     "execution_count": 99,
     "metadata": {},
     "output_type": "execute_result"
    }
   ],
   "source": [
    "#convert list of lists to 2D numpy array\n",
    "embeddings = np.array(embeddings)\n",
    "embeddings.shape"
   ]
  },
  {
   "cell_type": "code",
   "execution_count": 100,
   "id": "6d4b2cec",
   "metadata": {},
   "outputs": [],
   "source": [
    "from minsearch import VectorSearch"
   ]
  },
  {
   "cell_type": "code",
   "execution_count": 102,
   "id": "a036f48d",
   "metadata": {},
   "outputs": [
    {
     "data": {
      "text/plain": [
       "<minsearch.vector.VectorSearch at 0x1f38b445ac0>"
      ]
     },
     "execution_count": 102,
     "metadata": {},
     "output_type": "execute_result"
    }
   ],
   "source": [
    "vindex = VectorSearch()\n",
    "vindex.fit(embeddings, chunks)"
   ]
  },
  {
   "cell_type": "code",
   "execution_count": 103,
   "id": "e906b6e8",
   "metadata": {},
   "outputs": [],
   "source": [
    "def vector_search(question):\n",
    "    q = embedding_model.encode(question)\n",
    "\n",
    "    return vindex.search(\n",
    "        q,\n",
    "        num_results=5\n",
    "    )\n",
    "\n",
    "def rag(question):\n",
    "    search_results = vector_search(question)\n",
    "    user_prompt = build_prompt(question, search_results)\n",
    "    return llm(user_prompt, instructions=instructions)"
   ]
  },
  {
   "cell_type": "code",
   "execution_count": 104,
   "id": "e81f5c88",
   "metadata": {},
   "outputs": [
    {
     "data": {
      "text/plain": [
       "'The video is about an upcoming course called \"Machine Learning Zoom Camp.\" It provides information on how to access the course materials, which include both new and old videos. The course is aimed at individuals interested in building trading tools. Additionally, there will be updates to the course modules and some new material. The video explains the structure of the course, including homework assignments and the flexibility in timing for completing the coursework.'"
      ]
     },
     "execution_count": 104,
     "metadata": {},
     "output_type": "execute_result"
    }
   ],
   "source": [
    "question = 'what is this video about?'\n",
    "rag(question)"
   ]
  },
  {
   "cell_type": "code",
   "execution_count": null,
   "id": "9ab6d0d9",
   "metadata": {},
   "outputs": [],
   "source": []
  }
 ],
 "metadata": {
  "kernelspec": {
   "display_name": "course (3.12.4)",
   "language": "python",
   "name": "python3"
  },
  "language_info": {
   "codemirror_mode": {
    "name": "ipython",
    "version": 3
   },
   "file_extension": ".py",
   "mimetype": "text/x-python",
   "name": "python",
   "nbconvert_exporter": "python",
   "pygments_lexer": "ipython3",
   "version": "3.12.4"
  }
 },
 "nbformat": 4,
 "nbformat_minor": 5
}
